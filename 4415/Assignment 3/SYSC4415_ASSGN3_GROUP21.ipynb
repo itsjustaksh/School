{
  "cells": [
    {
      "cell_type": "code",
      "execution_count": 1,
      "metadata": {
        "id": "y_Ivqbm7YqoC"
      },
      "outputs": [],
      "source": [
        "import os, sys"
      ]
    },
    {
      "cell_type": "code",
      "execution_count": 2,
      "metadata": {
        "colab": {
          "base_uri": "https://localhost:8080/"
        },
        "id": "PXLytjSsYdSK",
        "outputId": "e3197da5-8952-4223-cf85-c0bb77d7f3b9"
      },
      "outputs": [],
      "source": [
        "# Check if extracted data folder exists\n",
        "usingColab = 0\n",
        "if usingColab:\n",
        "  if(not os.path.exists('SYSC4415W23_A3_dataset')):\n",
        "\n",
        "    # Download and extract the dataset if the zip file does not exist\n",
        "    if (not os.path.isfile('SYSC4415W23_A3_dataset.zip')):\n",
        "      !wget https://github.com/jrgreen7/SYSC4906/releases/download/Assignment3/SYSC4415W23_A3_dataset.zip\n",
        "      !unzip SYSC4415W23_A3_dataset.zip\n",
        "\n",
        "  datasetPath = r\"SYSC4415W23_A3_dataset\"\n",
        "\n",
        "else:\n",
        "  datasetPath = r\"C:/Users/googl/Documents/ML/A3_Dataset/SYSC4415W23_A3_dataset\""
      ]
    },
    {
      "cell_type": "code",
      "execution_count": 3,
      "metadata": {
        "colab": {
          "base_uri": "https://localhost:8080/"
        },
        "id": "d63-SPPIXMyk",
        "outputId": "d6892d41-7e95-4b10-bad3-67a55375efa6"
      },
      "outputs": [
        {
          "name": "stdout",
          "output_type": "stream",
          "text": [
            "Shape of original features: (1621, 7047)\n"
          ]
        }
      ],
      "source": [
        "import pandas as pd\n",
        "\n",
        "train_labels = pd.read_csv(f'{datasetPath}/train/labels.csv')\n",
        "train_features = pd.read_csv(f'{datasetPath}/train/extracted_features.csv')\n",
        "\n",
        "train_features.set_index(keys='sample_id', inplace=True)\n",
        "train_features.sort_values(by=['sample_id'], inplace=True)\n",
        "train_labels.set_index(keys='sample_id', inplace=True)\n",
        "train_labels.sort_values(by=['sample_id'], inplace=True)\n",
        "\n",
        "print(f'Shape of original features: {train_features.shape}')"
      ]
    },
    {
      "cell_type": "code",
      "execution_count": 4,
      "metadata": {},
      "outputs": [
        {
          "data": {
            "image/png": "[encoded data removed]",
            "text/plain": [
              "<Figure size 1000x500 with 1 Axes>"
            ]
          },
          "metadata": {},
          "output_type": "display_data"
        }
      ],
      "source": [
        "# Data visualization\n",
        "import matplotlib.pyplot as plt\n",
        "counts = train_labels.value_counts(subset=['label'])\n",
        "keys = ['Normal Walk', 'Fast Walk', 'Ascent', 'Descent', 'Jumping Jacks']\n",
        "vals = [counts[0],counts[1], counts[2], counts[3], counts[4]]\n",
        "\n",
        "fig = plt.figure(figsize=(10,5))\n",
        "plt.bar(x=keys, height=vals, width=0.5)\n",
        "plt.xlabel(\"Data Label\")\n",
        "plt.ylabel(\"Num samples\")\n",
        "plt.title(\"Number of each type of training sample\")\n",
        "plt.show()\n",
        "\n",
        "# No class imbalance"
      ]
    },
    {
      "cell_type": "markdown",
      "metadata": {
        "id": "9E1ch3OR3JHV"
      },
      "source": [
        "### Feature Selection \n",
        "Using variance thresholding, dropping any features with NaN values and using univariate stats to determince the top 50% of features for classification to determine which features are useful."
      ]
    },
    {
      "cell_type": "code",
      "execution_count": 5,
      "metadata": {
        "colab": {
          "base_uri": "https://localhost:8080/"
        },
        "id": "RcFYbNc73Frh",
        "outputId": "fac3f48e-03c2-48eb-a23b-63993c9fdc88"
      },
      "outputs": [
        {
          "name": "stderr",
          "output_type": "stream",
          "text": [
            "c:\\Users\\googl\\microconda\\envs\\ML\\lib\\site-packages\\sklearn\\feature_selection\\_variance_threshold.py:111: RuntimeWarning: Degrees of freedom <= 0 for slice.\n",
            "  self.variances_ = np.nanvar(X, axis=0)\n"
          ]
        },
        {
          "name": "stdout",
          "output_type": "stream",
          "text": [
            "Shape after variance threshold of .9525: (1621, 5423)\n",
            "Number of reduced features from removing NaN values: (1621, 5402)\n",
            "Feature data shape after SelectKBest using f-value stats: (1621, 1500)\n"
          ]
        }
      ],
      "source": [
        "# Remove features that have very low variance\n",
        "from sklearn.feature_selection import VarianceThreshold, SelectKBest, f_classif\n",
        "\n",
        "sel = VarianceThreshold(threshold=(0.95 * (1 - 0.95)))\n",
        "sel.fit_transform(train_features)\n",
        "cols = [column for column in train_features.columns \n",
        "          if column not in train_features.columns[sel.get_support()]]\n",
        "trimTrainFeat = train_features.drop(columns=cols)\n",
        "print(f'Shape after variance threshold of .9525: {trimTrainFeat.shape}')\n",
        "\n",
        "toDrop_o = trimTrainFeat.isnull().sum().to_numpy()\n",
        "toDrop = [True]*len(toDrop_o)\n",
        "for val in range(len(toDrop)):\n",
        "    if toDrop_o[val] > 0:\n",
        "        toDrop[val] = False\n",
        "    else:\n",
        "        toDrop[val] = True\n",
        "\n",
        "dropped = [column for column in trimTrainFeat.columns \n",
        "          if column not in trimTrainFeat.columns[toDrop]]\n",
        "dataset = trimTrainFeat.drop(columns=dropped)\n",
        "\n",
        "print(f'Number of reduced features from removing NaN values: {dataset.shape}')\n",
        "\n",
        "# Using top 50% of features\n",
        "nextSel = SelectKBest(score_func=f_classif, k=1500)\n",
        "nextSel.fit_transform(dataset, train_labels['label'])\n",
        "cols = [column for column in dataset.columns \n",
        "          if column not in dataset.columns[nextSel.get_support()]]\n",
        "dataset = dataset.drop(columns=cols)\n",
        "print(f'Feature data shape after SelectKBest using f-value stats: {dataset.shape}')\n",
        "\n",
        "# Free up memory for next tasks\n",
        "del trimTrainFeat, toDrop, dropped, cols, sel, nextSel, toDrop_o\n"
      ]
    },
    {
      "cell_type": "markdown",
      "metadata": {
        "id": "YDFlUveodaF2"
      },
      "source": [
        "#### Data Loading and organization"
      ]
    },
    {
      "cell_type": "code",
      "execution_count": 6,
      "metadata": {
        "id": "DSG1EIZmdaF3"
      },
      "outputs": [],
      "source": [
        "# from torch.utils.data import DataLoader\n",
        "batchSize = 32\n",
        "tr_split = 1300 # ~80% of labelled data\n",
        "te_split = 321  # ~10% of labelled data\n",
        "\n",
        "dataset['label'] = train_labels['label']\n",
        "dataset = dataset.sample(frac=1) # Shuffle rows before breaking into sets\n",
        "\n",
        "trainSet = dataset.iloc[:tr_split] # Shape: 1300, 2701\n",
        "testSet = dataset.iloc[tr_split:]  # Shape: 321, 2701"
      ]
    },
    {
      "cell_type": "markdown",
      "metadata": {
        "id": "a4JxEwwBdaF4"
      },
      "source": [
        "### Building model\n",
        "**Hyperparameters**: \n",
        "- Learning rate: Using effective LR calculated from base LR using:\n",
        "$$\\eta_{eff} = \\frac{B\\eta_{base}}{256}$$\n",
        "- Input size: 2700\n",
        "- Output size: 5 (1 per class label)\n",
        "- Hiddel layers: 1\n",
        "- Nodes/hidden layer: 1800 (2/3 of input size, since input size > num samples)"
      ]
    },
    {
      "cell_type": "code",
      "execution_count": 7,
      "metadata": {
        "colab": {
          "base_uri": "https://localhost:8080/"
        },
        "id": "RtoXtPV_daF4",
        "outputId": "b3a215d9-507f-4eca-ed51-0849741f5889"
      },
      "outputs": [
        {
          "name": "stdout",
          "output_type": "stream",
          "text": [
            "302.7653820514679\n"
          ]
        }
      ],
      "source": [
        "from sklearn.neural_network import MLPClassifier\n",
        "import time\n",
        "lr_base = 0.0001\n",
        "\n",
        "lr = (batchSize*lr_base)/256\n",
        "MLP = MLPClassifier((1000,), 'relu', solver='adam', learning_rate_init=lr, max_iter=1500, batch_size=batchSize)\n",
        "trainData = trainSet.iloc[:, :-1] # 1300, 1500\n",
        "trainLabels = trainSet.iloc[1:,-1] # 1300, 1\n",
        "\n",
        "start = time.time()\n",
        "MLP.fit(trainData, trainLabels)\n",
        "print(time.time() - start)"
      ]
    },
    {
      "cell_type": "code",
      "execution_count": 10,
      "metadata": {
        "colab": {
          "base_uri": "https://localhost:8080/"
        },
        "id": "1ZL0zKxELGx_",
        "outputId": "2cf47384-fb71-4807-e516-c3f158018b36"
      },
      "outputs": [
        {
          "name": "stdout",
          "output_type": "stream",
          "text": [
            "(321, 1500)\n",
            "Train accuracy: 0.9315384615384615\n",
            "Test accuracy: 0.7133956386292835\n"
          ]
        }
      ],
      "source": [
        "from sklearn.metrics import accuracy_score\n",
        "\n",
        "testCols = testSet.columns\n",
        "for col in trainSet.columns:\n",
        "  if col not in testCols:\n",
        "    testSet.drop(columns=col)\n",
        "\n",
        "testData = testSet.iloc[:, :-1] # 321, 1500\n",
        "testLabels = testSet.iloc[:,-1] # 321, 1\n",
        "\n",
        "trainLabelsEx = MLP.predict(X=trainData) # output 1300, 1\n",
        "testLabelsEx = MLP.predict(X=testData) # output 321, 1\n",
        "\n",
        "\n",
        "tr_score = accuracy_score(trainLabels, trainLabelsEx)\n",
        "te_score = accuracy_score(testLabels, testLabelsEx)\n",
        "\n",
        "\n",
        "\n",
        "# for te_lbl, tr_lbl in \n",
        "print(f\"Train accuracy: {tr_score}\")\n",
        "print(f\"Test accuracy: {te_score}\")\n"
      ]
    }
  ],
  "metadata": {
    "colab": {
      "provenance": []
    },
    "kernelspec": {
      "display_name": "ML",
      "language": "python",
      "name": "python3"
    },
    "language_info": {
      "codemirror_mode": {
        "name": "ipython",
        "version": 3
      },
      "file_extension": ".py",
      "mimetype": "text/x-python",
      "name": "python",
      "nbconvert_exporter": "python",
      "pygments_lexer": "ipython3",
      "version": "3.9.16"
    },
    "vscode": {
      "interpreter": {
        "hash": "44ebdb7eb0a19e41afd994342a776f6179e5d196f7f1f7cdbb3f2d4517dc929d"
      }
    }
  },
  "nbformat": 4,
  "nbformat_minor": 0
}
