{
  "cells": [
    {
      "cell_type": "code",
      "execution_count": 3,
      "metadata": {
        "id": "y_Ivqbm7YqoC"
      },
      "outputs": [],
      "source": [
        "import os, sys"
      ]
    },
    {
      "cell_type": "code",
      "execution_count": 4,
      "metadata": {
        "id": "PXLytjSsYdSK"
      },
      "outputs": [],
      "source": [
        "# Check if extracted data folder exists\n",
        "usingColab = 1\n",
        "if usingColab:\n",
        "  if(not os.path.exists('SYSC4415W23_A3_dataset')):\n",
        "\n",
        "    # Download and extract the dataset if the zip file does not exist\n",
        "    if (not os.path.isfile('SYSC4415W23_A3_dataset.zip')):\n",
        "      !wget https://github.com/jrgreen7/SYSC4906/releases/download/Assignment3/SYSC4415W23_A3_dataset.zip\n",
        "      !unzip SYSC4415W23_A3_dataset.zip\n",
        "\n",
        "  datasetPath = r\"SYSC4415W23_A3_dataset\"\n",
        "\n",
        "else:\n",
        "  datasetPath = r\"C:/Users/googl/Documents/ML/A3_Dataset/SYSC4415W23_A3_dataset\""
      ]
    },
    {
      "cell_type": "code",
      "execution_count": 6,
      "metadata": {
        "colab": {
          "base_uri": "https://localhost:8080/"
        },
        "id": "d63-SPPIXMyk",
        "outputId": "08c1e2b9-339b-4f88-9915-440b4a5c193a"
      },
      "outputs": [
        {
          "output_type": "stream",
          "name": "stdout",
          "text": [
            "number of original features: (1621, 7047)\n"
          ]
        }
      ],
      "source": [
        "import pandas as pd\n",
        "\n",
        "train_labels = pd.read_csv(f'{datasetPath}/train/labels.csv')\n",
        "train_features = pd.read_csv(f'{datasetPath}/train/extracted_features.csv')\n",
        "\n",
        "train_features.set_index(keys='sample_id', inplace=True)\n",
        "train_features.sort_values(by=['sample_id'], inplace=True)\n",
        "train_labels.set_index(keys='sample_id', inplace=True)\n",
        "train_labels.sort_values(by=['sample_id'], inplace=True)\n",
        "\n",
        "print(f'Shape of original features: {train_features.shape}')"
      ]
    },
    {
      "cell_type": "markdown",
      "source": [
        "### Feature Selection \n",
        "Using variance thresholding, dropping any features with NaN values and using univariate stats to determince the top 50% of features for classification to determine which features are useful."
      ],
      "metadata": {
        "id": "9E1ch3OR3JHV"
      }
    },
    {
      "cell_type": "code",
      "source": [
        "# Remove features that have very low variance\n",
        "from sklearn.feature_selection import VarianceThreshold, SelectKBest, f_classif\n",
        "\n",
        "sel = VarianceThreshold(threshold=(0.95 * (1 - 0.95)))\n",
        "sel.fit_transform(train_features)\n",
        "cols = [column for column in train_features.columns \n",
        "          if column not in train_features.columns[sel.get_support()]]\n",
        "trimTrainFeat = train_features.drop(columns=cols)\n",
        "print(f'Shape after variance threshold of .9525: {trimTrainFeat.shape}')\n",
        "\n",
        "toDrop_o = trimTrainFeat.isnull().sum().to_numpy()\n",
        "toDrop = [True]*len(toDrop_o)\n",
        "for val in range(len(toDrop)):\n",
        "    if toDrop_o[val] > 0:\n",
        "        toDrop[val] = False\n",
        "    else:\n",
        "        toDrop[val] = True\n",
        "\n",
        "dropped = [column for column in trimTrainFeat.columns \n",
        "          if column not in trimTrainFeat.columns[toDrop]]\n",
        "dataset = trimTrainFeat.drop(columns=dropped)\n",
        "\n",
        "print(f'Number of reduced features from removing NaN values: {dataset.shape}')\n",
        "\n",
        "# Using top 50% of features\n",
        "nextSel = SelectKBest(score_func=f_classif, k=2700)\n",
        "nextSel.fit_transform(dataset, train_labels['label'])\n",
        "cols = [column for column in dataset.columns \n",
        "          if column not in dataset.columns[nextSel.get_support()]]\n",
        "dataset = dataset.drop(columns=cols)\n",
        "print(f'Feature data shape after SelectKBest using f-value stats: {dataset.shape}')\n",
        "\n",
        "# Free up memory for next tasks\n",
        "del trimTrainFeat, toDrop, dropped, cols, sel, nextSel, toDrop_o\n"
      ],
      "metadata": {
        "id": "RcFYbNc73Frh",
        "outputId": "800b44f8-4a4e-4e86-dff9-400704f2d32a",
        "colab": {
          "base_uri": "https://localhost:8080/"
        }
      },
      "execution_count": 21,
      "outputs": [
        {
          "output_type": "stream",
          "name": "stderr",
          "text": [
            "/usr/local/lib/python3.9/dist-packages/sklearn/feature_selection/_variance_threshold.py:111: RuntimeWarning: Degrees of freedom <= 0 for slice.\n",
            "  self.variances_ = np.nanvar(X, axis=0)\n"
          ]
        },
        {
          "output_type": "stream",
          "name": "stdout",
          "text": [
            "Shape after variance threshold of .9525: (1621, 5423)\n",
            "Number of reduced features from removing NaN values: (1621, 5402)\n",
            "2702\n",
            "Feature data shape after SelectKBest using f-value stats: (1621, 2700)\n"
          ]
        }
      ]
    },
    {
      "cell_type": "code",
      "execution_count": 38,
      "metadata": {
        "id": "jUWCryY3iGy_",
        "outputId": "01d008de-eae1-4aee-f836-08842be5b622",
        "colab": {
          "base_uri": "https://localhost:8080/",
          "height": 487
        }
      },
      "outputs": [
        {
          "output_type": "display_data",
          "data": {
            "text/plain": [
              "<Figure size 1000x500 with 1 Axes>"
            ],
            "image/png": "[encoded data removed]"
          },
          "metadata": {}
        }
      ],
      "source": [
        "# Data visualization\n",
        "import matplotlib.pyplot as plt\n",
        "counts = train_labels.value_counts(subset=['label'])\n",
        "keys = ['Normal Walk', 'Fast Walk', 'Ascent', 'Descent', 'Jumping Jacks']\n",
        "vals = [counts[0],counts[1], counts[2], counts[3], counts[4]]\n",
        "\n",
        "fig = plt.figure(figsize=(10,5))\n",
        "plt.bar(x=keys, height=vals, width=0.5)\n",
        "plt.xlabel(\"Data Label\")\n",
        "plt.ylabel(\"Num samples\")\n",
        "plt.title(\"Number of each type of training sample\")\n",
        "plt.show()\n",
        "\n",
        "# No class imbalance"
      ]
    },
    {
      "cell_type": "markdown",
      "metadata": {
        "id": "YDFlUveodaF2"
      },
      "source": [
        "#### Data Loading and organization"
      ]
    },
    {
      "cell_type": "code",
      "execution_count": 22,
      "metadata": {
        "id": "DSG1EIZmdaF3",
        "outputId": "c58a4e44-ac33-4f4c-d336-7260a5cceb11",
        "colab": {
          "base_uri": "https://localhost:8080/"
        }
      },
      "outputs": [
        {
          "output_type": "stream",
          "name": "stdout",
          "text": [
            "           az__variance_larger_than_standard_deviation  az__has_duplicate  \\\n",
            "sample_id                                                                   \n",
            "1                                                  1.0                1.0   \n",
            "2                                                  1.0                1.0   \n",
            "3                                                  1.0                1.0   \n",
            "4                                                  1.0                1.0   \n",
            "6                                                  1.0                1.0   \n",
            "\n",
            "           az__sum_values  az__abs_energy  az__mean_abs_change  az__median  \\\n",
            "sample_id                                                                    \n",
            "1              -11.405649     2958.427875             0.285573     -0.3230   \n",
            "2                4.430022      816.786905             0.127496     -0.0784   \n",
            "3              136.485847    19606.818781             1.177862      1.1600   \n",
            "4              175.151247     5355.340251             0.460815     -0.1920   \n",
            "6             8271.947225   258299.799743             1.649718      5.8100   \n",
            "\n",
            "            az__mean  az__standard_deviation  az__variance  az__skewness  ...  \\\n",
            "sample_id                                                                 ...   \n",
            "1          -0.017520                2.131696      4.544129      0.558697  ...   \n",
            "2           0.006805                1.120098      1.254619      1.075674  ...   \n",
            "3           0.209656                5.483981     30.074046     -0.103107  ...   \n",
            "4           0.269050                2.855511      8.153941      0.621348  ...   \n",
            "6          12.706524               15.340082    235.318130      1.628221  ...   \n",
            "\n",
            "           wx__augmented_dickey_fuller__attr_\"teststat\"__autolag_\"AIC\"  \\\n",
            "sample_id                                                                \n",
            "1                                                  -4.976103             \n",
            "2                                                  -4.361534             \n",
            "3                                                  -6.960465             \n",
            "4                                                  -4.661442             \n",
            "6                                                  -4.324024             \n",
            "\n",
            "           wx__number_crossing_m__m_0  wx__number_crossing_m__m_-1  \\\n",
            "sample_id                                                            \n",
            "1                                36.0                         34.0   \n",
            "2                                23.0                         15.0   \n",
            "3                                82.0                         81.0   \n",
            "4                                33.0                         17.0   \n",
            "6                                11.0                         11.0   \n",
            "\n",
            "           wx__number_crossing_m__m_1  wx__fourier_entropy__bins_100  \\\n",
            "sample_id                                                              \n",
            "1                                22.0                       1.217748   \n",
            "2                                19.0                       0.529885   \n",
            "3                                64.0                       1.116011   \n",
            "4                                42.0                       0.919296   \n",
            "6                                11.0                       0.662409   \n",
            "\n",
            "           wx__permutation_entropy__dimension_4__tau_1  \\\n",
            "sample_id                                                \n",
            "1                                             1.746101   \n",
            "2                                             1.012292   \n",
            "3                                             2.036857   \n",
            "4                                             1.696299   \n",
            "6                                             1.731053   \n",
            "\n",
            "           wx__permutation_entropy__dimension_5__tau_1  \\\n",
            "sample_id                                                \n",
            "1                                             2.344862   \n",
            "2                                             1.286613   \n",
            "3                                             2.785054   \n",
            "4                                             2.263814   \n",
            "6                                             2.329627   \n",
            "\n",
            "           wx__permutation_entropy__dimension_6__tau_1  \\\n",
            "sample_id                                                \n",
            "1                                             2.950303   \n",
            "2                                             1.553275   \n",
            "3                                             3.524340   \n",
            "4                                             2.859709   \n",
            "6                                             2.946007   \n",
            "\n",
            "           wx__permutation_entropy__dimension_7__tau_1  \\\n",
            "sample_id                                                \n",
            "1                                             3.541137   \n",
            "2                                             1.834964   \n",
            "3                                             4.223358   \n",
            "4                                             3.450062   \n",
            "6                                             3.538269   \n",
            "\n",
            "           wx__mean_n_absolute_max__number_of_maxima_7  \n",
            "sample_id                                               \n",
            "1                                             4.362429  \n",
            "2                                            11.139676  \n",
            "3                                             5.262511  \n",
            "4                                             6.425968  \n",
            "6                                            40.151338  \n",
            "\n",
            "[5 rows x 2700 columns]\n",
            "           label\n",
            "sample_id       \n",
            "1              3\n",
            "2              3\n",
            "3              4\n",
            "4              1\n",
            "6              4\n"
          ]
        }
      ],
      "source": [
        "from torch.utils.data import DataLoader\n",
        "batchSize = 128\n",
        "tr_split = 1140 # ~70% of labelled data\n",
        "v_split = 320   # ~20% of labelled data\n",
        "te_split = 161  # ~10% of labelled data\n",
        "\n",
        "print(dataset.head(5))\n",
        "print(train_labels.head(5))\n",
        "\n",
        "# dataset['label'] = train_labels['label']\n",
        "# dataset = dataset.sample(frac=1) # Shuffle rows before breaking into sets\n",
        "\n",
        "# trainSet = dataset.iloc[:tr_split]                # Shape: 1140, 2701\n",
        "# valSet = dataset.iloc[tr_split:tr_split+v_split]  # Shape: 320, 2701\n",
        "# testSet = dataset.iloc[tr_split+v_split:]         # Shape: 161, 2701\n",
        "\n",
        "# trainL = DataLoader(dataset=trainSet, batch_size=batchSize, shuffle=True)\n",
        "# valL =   DataLoader(dataset=valSet, batch_size=batchSize, shuffle=True)\n",
        "# testL =  DataLoader(dataset=testSet, batch_size=batchSize, shuffle=True)\n"
      ]
    },
    {
      "cell_type": "markdown",
      "metadata": {
        "id": "a4JxEwwBdaF4"
      },
      "source": [
        "### Building model\n",
        "**Hyperparameters**: \n",
        "- Learning rate: Using effective LR calculated from base LR using:\n",
        "$$\\eta_{eff} = \\frac{B\\eta_{base}}{256}$$\n",
        "- Input size: 2700\n",
        "- Output size: 5 (1 per class label)\n",
        "- Hiddel layers: 1\n",
        "- Nodes/hidden layer: 1800 (2/3 of input size, since input size > num samples)"
      ]
    },
    {
      "cell_type": "code",
      "execution_count": 50,
      "metadata": {
        "id": "RtoXtPV_daF4",
        "outputId": "c5ce62ed-7078-4a77-9039-8a03ce4eeb74",
        "colab": {
          "base_uri": "https://localhost:8080/",
          "height": 196
        }
      },
      "outputs": [
        {
          "output_type": "stream",
          "name": "stderr",
          "text": [
            "/usr/local/lib/python3.9/dist-packages/sklearn/neural_network/_multilayer_perceptron.py:528: ConvergenceWarning: lbfgs failed to converge (status=2):\n",
            "ABNORMAL_TERMINATION_IN_LNSRCH.\n",
            "\n",
            "Increase the number of iterations (max_iter) or scale the data as shown in:\n",
            "    https://scikit-learn.org/stable/modules/preprocessing.html\n",
            "  opt_res = scipy.optimize.minimize(\n"
          ]
        },
        {
          "output_type": "execute_result",
          "data": {
            "text/plain": [
              "MLPClassifier(hidden_layer_sizes=(1800,), learning_rate_init=5e-05,\n",
              "              solver='lbfgs')"
            ],
            "text/html": [
              "<style>#sk-container-id-2 {color: black;background-color: white;}#sk-container-id-2 pre{padding: 0;}#sk-container-id-2 div.sk-toggleable {background-color: white;}#sk-container-id-2 label.sk-toggleable__label {cursor: pointer;display: block;width: 100%;margin-bottom: 0;padding: 0.3em;box-sizing: border-box;text-align: center;}#sk-container-id-2 label.sk-toggleable__label-arrow:before {content: \"▸\";float: left;margin-right: 0.25em;color: #696969;}#sk-container-id-2 label.sk-toggleable__label-arrow:hover:before {color: black;}#sk-container-id-2 div.sk-estimator:hover label.sk-toggleable__label-arrow:before {color: black;}#sk-container-id-2 div.sk-toggleable__content {max-height: 0;max-width: 0;overflow: hidden;text-align: left;background-color: #f0f8ff;}#sk-container-id-2 div.sk-toggleable__content pre {margin: 0.2em;color: black;border-radius: 0.25em;background-color: #f0f8ff;}#sk-container-id-2 input.sk-toggleable__control:checked~div.sk-toggleable__content {max-height: 200px;max-width: 100%;overflow: auto;}#sk-container-id-2 input.sk-toggleable__control:checked~label.sk-toggleable__label-arrow:before {content: \"▾\";}#sk-container-id-2 div.sk-estimator input.sk-toggleable__control:checked~label.sk-toggleable__label {background-color: #d4ebff;}#sk-container-id-2 div.sk-label input.sk-toggleable__control:checked~label.sk-toggleable__label {background-color: #d4ebff;}#sk-container-id-2 input.sk-hidden--visually {border: 0;clip: rect(1px 1px 1px 1px);clip: rect(1px, 1px, 1px, 1px);height: 1px;margin: -1px;overflow: hidden;padding: 0;position: absolute;width: 1px;}#sk-container-id-2 div.sk-estimator {font-family: monospace;background-color: #f0f8ff;border: 1px dotted black;border-radius: 0.25em;box-sizing: border-box;margin-bottom: 0.5em;}#sk-container-id-2 div.sk-estimator:hover {background-color: #d4ebff;}#sk-container-id-2 div.sk-parallel-item::after {content: \"\";width: 100%;border-bottom: 1px solid gray;flex-grow: 1;}#sk-container-id-2 div.sk-label:hover label.sk-toggleable__label {background-color: #d4ebff;}#sk-container-id-2 div.sk-serial::before {content: \"\";position: absolute;border-left: 1px solid gray;box-sizing: border-box;top: 0;bottom: 0;left: 50%;z-index: 0;}#sk-container-id-2 div.sk-serial {display: flex;flex-direction: column;align-items: center;background-color: white;padding-right: 0.2em;padding-left: 0.2em;position: relative;}#sk-container-id-2 div.sk-item {position: relative;z-index: 1;}#sk-container-id-2 div.sk-parallel {display: flex;align-items: stretch;justify-content: center;background-color: white;position: relative;}#sk-container-id-2 div.sk-item::before, #sk-container-id-2 div.sk-parallel-item::before {content: \"\";position: absolute;border-left: 1px solid gray;box-sizing: border-box;top: 0;bottom: 0;left: 50%;z-index: -1;}#sk-container-id-2 div.sk-parallel-item {display: flex;flex-direction: column;z-index: 1;position: relative;background-color: white;}#sk-container-id-2 div.sk-parallel-item:first-child::after {align-self: flex-end;width: 50%;}#sk-container-id-2 div.sk-parallel-item:last-child::after {align-self: flex-start;width: 50%;}#sk-container-id-2 div.sk-parallel-item:only-child::after {width: 0;}#sk-container-id-2 div.sk-dashed-wrapped {border: 1px dashed gray;margin: 0 0.4em 0.5em 0.4em;box-sizing: border-box;padding-bottom: 0.4em;background-color: white;}#sk-container-id-2 div.sk-label label {font-family: monospace;font-weight: bold;display: inline-block;line-height: 1.2em;}#sk-container-id-2 div.sk-label-container {text-align: center;}#sk-container-id-2 div.sk-container {/* jupyter's `normalize.less` sets `[hidden] { display: none; }` but bootstrap.min.css set `[hidden] { display: none !important; }` so we also need the `!important` here to be able to override the default hidden behavior on the sphinx rendered scikit-learn.org. See: https://github.com/scikit-learn/scikit-learn/issues/21755 */display: inline-block !important;position: relative;}#sk-container-id-2 div.sk-text-repr-fallback {display: none;}</style><div id=\"sk-container-id-2\" class=\"sk-top-container\"><div class=\"sk-text-repr-fallback\"><pre>MLPClassifier(hidden_layer_sizes=(1800,), learning_rate_init=5e-05,\n",
              "              solver=&#x27;lbfgs&#x27;)</pre><b>In a Jupyter environment, please rerun this cell to show the HTML representation or trust the notebook. <br />On GitHub, the HTML representation is unable to render, please try loading this page with nbviewer.org.</b></div><div class=\"sk-container\" hidden><div class=\"sk-item\"><div class=\"sk-estimator sk-toggleable\"><input class=\"sk-toggleable__control sk-hidden--visually\" id=\"sk-estimator-id-2\" type=\"checkbox\" checked><label for=\"sk-estimator-id-2\" class=\"sk-toggleable__label sk-toggleable__label-arrow\">MLPClassifier</label><div class=\"sk-toggleable__content\"><pre>MLPClassifier(hidden_layer_sizes=(1800,), learning_rate_init=5e-05,\n",
              "              solver=&#x27;lbfgs&#x27;)</pre></div></div></div></div></div>"
            ]
          },
          "metadata": {},
          "execution_count": 50
        }
      ],
      "source": [
        "from sklearn.neural_network import MLPClassifier\n",
        "lr_base = 0.0001\n",
        "\n",
        "lr = (batchSize*lr_base)/256\n",
        "MLP = MLPClassifier((1800,), 'relu', solver='lbfgs', learning_rate_init=lr)\n",
        "trainData = trainSet.iloc[:, :-1] # 1140, 2700\n",
        "trainLabels = trainSet.iloc[:,-1] # 1140, 1\n",
        "MLP.fit(trainData, trainLabels)\n",
        "\n"
      ]
    }
  ],
  "metadata": {
    "colab": {
      "provenance": []
    },
    "kernelspec": {
      "display_name": "Python 3",
      "name": "python3"
    },
    "language_info": {
      "codemirror_mode": {
        "name": "ipython",
        "version": 3
      },
      "file_extension": ".py",
      "mimetype": "text/x-python",
      "name": "python",
      "nbconvert_exporter": "python",
      "pygments_lexer": "ipython3",
      "version": "3.10.4"
    }
  },
  "nbformat": 4,
  "nbformat_minor": 0
}