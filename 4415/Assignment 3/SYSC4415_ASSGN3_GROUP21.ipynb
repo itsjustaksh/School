{
  "nbformat": 4,
  "nbformat_minor": 0,
  "metadata": {
    "colab": {
      "provenance": []
    },
    "kernelspec": {
      "name": "python3",
      "display_name": "Python 3"
    },
    "language_info": {
      "name": "python"
    }
  },
  "cells": [
    {
      "cell_type": "code",
      "source": [
        "import os"
      ],
      "metadata": {
        "id": "y_Ivqbm7YqoC"
      },
      "execution_count": null,
      "outputs": []
    },
    {
      "cell_type": "code",
      "source": [
        "# Check if extracted data folder exists\n",
        "if(not os.path.exists('SYSC4415W23_A3_dataset')):\n",
        "\n",
        "  # Download and extract the dataset if the zip file does not exist\n",
        "  if (not os.path.isfile('SYSC4415W23_A3_dataset.zip')):\n",
        "    !wget https://github.com/jrgreen7/SYSC4906/releases/download/Assignment3/SYSC4415W23_A3_dataset.zip\n",
        "    !unzip SYSC4415W23_A3_dataset.zip"
      ],
      "metadata": {
        "id": "PXLytjSsYdSK"
      },
      "execution_count": null,
      "outputs": []
    },
    {
      "cell_type": "code",
      "execution_count": null,
      "metadata": {
        "colab": {
          "base_uri": "https://localhost:8080/"
        },
        "id": "d63-SPPIXMyk",
        "outputId": "029d2d96-27ba-4f46-f9c7-b444867422e6"
      },
      "outputs": [
        {
          "output_type": "stream",
          "name": "stdout",
          "text": [
            "number of original features: (1621, 7048)\n",
            "number of reduced features: (1621, 5424)\n"
          ]
        },
        {
          "output_type": "stream",
          "name": "stderr",
          "text": [
            "/usr/local/lib/python3.9/dist-packages/sklearn/feature_selection/_variance_threshold.py:111: RuntimeWarning: Degrees of freedom <= 0 for slice.\n",
            "  self.variances_ = np.nanvar(X, axis=0)\n"
          ]
        }
      ],
      "source": [
        "import pandas as pd\n",
        "from sklearn.feature_selection import VarianceThreshold\n",
        "\n",
        "train_labels = pd.read_csv('SYSC4415W23_A3_dataset/train/labels.csv')\n",
        "train_features = pd.read_csv('SYSC4415W23_A3_dataset/train/extracted_features.csv')\n",
        "print(f'number of original features: {train_features.shape}')\n",
        "\n",
        "# Remove features that have the same value across the board\n",
        "sel = VarianceThreshold(threshold=(0.95 * (1 - 0.95)))\n",
        "new_feat = sel.fit_transform(train_features)\n",
        "print(f'number of reduced features: {new_feat.shape}')\n",
        "# features.dtypes"
      ]
    },
    {
      "cell_type": "code",
      "source": [],
      "metadata": {
        "id": "myPzWFRJscoo"
      },
      "execution_count": null,
      "outputs": []
    },
    {
      "cell_type": "code",
      "source": [
        "from sklearn import svm\n",
        "\n",
        "svm_model = svm.LinearSVC(kernel='linear')\n",
        "\n",
        "svm_model.fit()\n",
        "\n",
        "# Create SVM\n",
        "\n"
      ],
      "metadata": {
        "id": "jUWCryY3iGy_"
      },
      "execution_count": null,
      "outputs": []
    }
  ]
}