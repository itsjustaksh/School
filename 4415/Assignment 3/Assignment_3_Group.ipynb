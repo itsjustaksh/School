{
  "cells": [
    {
      "cell_type": "code",
      "execution_count": 1,
      "metadata": {
        "id": "-1Mokq4SEira"
      },
      "outputs": [],
      "source": [
        "import os, sys\n",
        "import numpy as np\n",
        "import pandas as pd\n",
        "import matplotlib.pyplot as plt"
      ]
    },
    {
      "cell_type": "markdown",
      "metadata": {
        "id": "iSCnJzW8Eirc"
      },
      "source": [
        "### Loading Data\n",
        "\n",
        "Download zip files from github and unzip into mounted location. Once unzipped, read data files and load into dataframes.\n",
        "Plot histogram to show label occurences"
      ]
    },
    {
      "cell_type": "code",
      "execution_count": 2,
      "metadata": {
        "id": "L60VLWAoEird"
      },
      "outputs": [],
      "source": [
        "# Check if extracted data folder exists\n",
        "usingColab = False\n",
        "if usingColab:\n",
        "  if(not os.path.exists('SYSC4415W23_A3_dataset')):\n",
        "\n",
        "    # Download and extract the dataset if the zip file does not exist\n",
        "    if (not os.path.isfile('SYSC4415W23_A3_dataset.zip')):\n",
        "      !wget https://github.com/jrgreen7/SYSC4906/releases/download/Assignment3/SYSC4415W23_A3_dataset.zip\n",
        "      !unzip SYSC4415W23_A3_dataset.zip\n"
      ]
    },
    {
      "cell_type": "code",
      "execution_count": 3,
      "metadata": {
        "id": "KZ46QvhMEird"
      },
      "outputs": [
        {
          "name": "stdout",
          "output_type": "stream",
          "text": [
            "Shape of original features: (1621, 7047)\n"
          ]
        }
      ],
      "source": [
        "# Original Training Data\n",
        "train_labels = pd.read_csv(f'SYSC4415W23_A3_dataset/train/labels.csv')\n",
        "train_features = pd.read_csv(f'SYSC4415W23_A3_dataset/train/extracted_features.csv')\n",
        "\n",
        "train_features.set_index(keys='sample_id', inplace=True)\n",
        "train_labels.set_index(keys='sample_id', inplace=True)\n",
        "\n",
        "train_features.sort_values(by=['sample_id'], inplace=True)\n",
        "train_labels.sort_values(by=['sample_id'], inplace=True)\n",
        "\n",
        "print(f'Shape of original features: {train_features.shape}')\n",
        "\n",
        "# Evaluation Test Data\n",
        "test_features = pd.read_csv(f'SYSC4415W23_A3_dataset/test/extracted_features.csv')\n",
        "test_labels = pd.read_csv(f'SYSC4415W23_A3_dataset/test/labels.csv')\n",
        "\n",
        "test_features.set_index('sample_id', inplace=True)\n",
        "test_labels.set_index('sample_id', inplace=True)\n",
        "\n",
        "test_features.sort_values(by=['sample_id'], inplace=True)\n",
        "test_labels.sort_values(by=['sample_id'], inplace=True)"
      ]
    },
    {
      "cell_type": "code",
      "execution_count": 4,
      "metadata": {
        "id": "4Pj2XDSrEird"
      },
      "outputs": [
        {
          "data": {
            "image/png": "[encoded data removed]",
            "text/plain": [
              "<Figure size 1000x500 with 1 Axes>"
            ]
          },
          "metadata": {},
          "output_type": "display_data"
        }
      ],
      "source": [
        "# Data visualization\n",
        "counts = train_labels.value_counts(subset=['label'])\n",
        "keys = ['Normal Walk', 'Fast Walk', 'Ascent', 'Descent', 'Jumping Jacks']\n",
        "vals = [counts[0],counts[1], counts[2], counts[3], counts[4]]\n",
        "\n",
        "fig = plt.figure(figsize=(10,5))\n",
        "plt.bar(x=keys, height=vals, width=0.5)\n",
        "plt.xlabel(\"Data Label\")\n",
        "plt.ylabel(\"Num samples\")\n",
        "plt.title(\"Number of each type of training sample\")\n",
        "plt.show()\n",
        "\n",
        "# No class imbalance"
      ]
    },
    {
      "cell_type": "markdown",
      "metadata": {
        "id": "o-Y7WaRWEire"
      },
      "source": [
        "### Feature Selection \n",
        "Using variance thresholding, dropping any features with NaN values and using univariate stats to determince the ***__top 50% of features__*** for classification to determine which features are useful."
      ]
    },
    {
      "cell_type": "code",
      "execution_count": 5,
      "metadata": {
        "id": "1Lk93-wwEire"
      },
      "outputs": [],
      "source": [
        "# Remove features that have very low variance\n",
        "from sklearn.feature_selection import VarianceThreshold, SelectKBest, f_classif\n",
        "\n",
        "# Feature Selection, done as a function to accomodate different features and methods needed by different models\n",
        "def trimDataset(numFeatures: int, useCorr=False) -> tuple[pd.DataFrame, pd.DataFrame]:\n",
        "\n",
        "    # Drop columns with nan values\n",
        "    toDrop = train_features.columns[train_features.isnull().any()].tolist()\n",
        "    train_selected = train_features.drop(toDrop, axis=1)\n",
        "    test_selected = test_features.drop(toDrop, axis=1)\n",
        "\n",
        "    # Drop columns with very low variance\n",
        "    sel = VarianceThreshold(threshold=(0.95 * (1 - 0.95)))\n",
        "    sel.fit_transform(train_selected)\n",
        "    cols = [column for column in train_selected.columns \n",
        "            if column not in train_selected.columns[sel.get_support()]]\n",
        "    train_selected.drop(columns=cols, inplace=True)\n",
        "    test_selected.drop(columns=cols, inplace=True)\n",
        "\n",
        "    # Compute the correlation matrix\n",
        "    if useCorr:\n",
        "        corr_matrix = train_selected.corr().abs()\n",
        "        upper = corr_matrix.where(np.triu(np.ones(corr_matrix.shape), k=1).astype(bool))\n",
        "        # Find index of feature columns with correlation greater than 0.8\n",
        "        to_drop = [column for column in upper.columns if any(upper[column] > 0.8)]\n",
        "        train_selected.drop(columns=to_drop, inplace=True)\n",
        "        test_selected.drop(columns=to_drop, inplace=True)\n",
        "\n",
        "        del to_drop\n",
        "\n",
        "    # Using top 1750 features\n",
        "    nextSel = SelectKBest(score_func=f_classif, k=numFeatures)\n",
        "    nextSel.fit_transform(train_selected, train_labels['label'])\n",
        "    cols = []\n",
        "    cols = [column for column in train_selected.columns if column not in train_selected.columns[nextSel.get_support()]]\n",
        "    train_selected.drop(columns=cols, inplace=True)\n",
        "    test_selected.drop(columns=cols, inplace=True)\n",
        "\n",
        "    # Free up memory for next tasks\n",
        "    del toDrop, cols, sel, nextSel\n",
        "\n",
        "    return train_selected, test_selected"
      ]
    },
    {
      "cell_type": "markdown",
      "metadata": {
        "id": "ZYWDnkAhEirf"
      },
      "source": [
        "# Extra Trees Model\n",
        "**Model**\n",
        "\n",
        "Using a Extremely Randomized Trees approach to classify samples, an ensemble learning method akin to Random Forests is used to determine class labels for examples. \n",
        "\n",
        "### Training\n",
        "\n",
        "**Hyperparameters** \n",
        "\n",
        "The following hyperparameters were determined experimentally using a grid search method \n",
        "- Number of trees in Forest: 1000\n",
        "- Loss Criterion: Log Loss\n",
        "- Input size: 1250\n",
        "- Output size: 5"
      ]
    },
    {
      "cell_type": "code",
      "execution_count": 6,
      "metadata": {
        "id": "h4tyV7vREirf"
      },
      "outputs": [
        {
          "name": "stdout",
          "output_type": "stream",
          "text": [
            "(1621, 1250)  --> Dataset shape prior to training\n",
            "ETrees Training time: 48.82 s\n"
          ]
        }
      ],
      "source": [
        "from sklearn.model_selection import train_test_split\n",
        "from sklearn.ensemble import ExtraTreesClassifier\n",
        "import time, random\n",
        "\n",
        "# Dataset Preparation\n",
        "jobs = 6\n",
        "dataset, evalSet = trimDataset(1250, False)\n",
        "dataset.sort_values(by=['sample_id'], inplace=True); evalSet.sort_values(by=['sample_id'], inplace=True)\n",
        "randomState = random.randrange(0, 400)\n",
        "\n",
        "print(dataset.shape, ' --> Dataset shape prior to training')\n",
        "\n",
        "trainData, testData, trainLabels, testLabels = train_test_split(dataset, train_labels, shuffle=True, test_size=0.2, random_state=randomState)\n",
        "\n",
        "# Model Training\n",
        "eTree = ExtraTreesClassifier(n_estimators=1000, min_samples_split=2, max_features=None, n_jobs=jobs, criterion='log_loss')\n",
        "\n",
        "start = time.time()\n",
        "eTree.fit(trainData, trainLabels.values.ravel())\n",
        "totalTime = time.time() - start\n",
        "print(f'ETrees Training time: {round(totalTime, ndigits=2)} s')"
      ]
    },
    {
      "attachments": {},
      "cell_type": "markdown",
      "metadata": {
        "id": "qEDOP5nFEirf"
      },
      "source": [
        "### Testing\n",
        "\n",
        "Testing model using 20% of the original dataset used as a holdout for validation. "
      ]
    },
    {
      "cell_type": "code",
      "execution_count": 7,
      "metadata": {
        "id": "sffQbFLWEirg"
      },
      "outputs": [
        {
          "name": "stdout",
          "output_type": "stream",
          "text": [
            "Train accuracy ETrees: 99.92%\n",
            "Test accuracy ETrees:  78.46%\n"
          ]
        }
      ],
      "source": [
        "from sklearn.metrics import accuracy_score\n",
        "from sklearn.model_selection import cross_val_score\n",
        "\n",
        "# Extra Trees\n",
        "trainLabelsEx = pd.Series(data=eTree.predict(X=trainData), index=trainData.index) # output trainData.shape\n",
        "testLabelsEx = pd.Series(data=eTree.predict(X=testData), index=testData.index)    # output testData.shape\n",
        "\n",
        "tr_score = accuracy_score(trainLabels, trainLabelsEx)\n",
        "te_score = accuracy_score(testLabels,  testLabelsEx)\n",
        "\n",
        "print(f\"Train accuracy ETrees: {round(tr_score*100, 2)}%\")\n",
        "print(f\"Test accuracy ETrees:  {round(te_score*100, 2)}%\")\n",
        "\n",
        "# score = cross_val_score(eTree, X=dataset, y=train_labels, cv=5, n_jobs=jobs, scoring='accuracy')\n",
        "# print(\"5-fold Cross validation score on eTree model\")\n",
        "# print(f\"Score: {score.mean()*100: .2f}% \\t[± {score.std()*100: .2f}%]\")"
      ]
    },
    {
      "attachments": {},
      "cell_type": "markdown",
      "metadata": {
        "id": "qDEptPAXEirg"
      },
      "source": [
        "# SVM Classifier\n",
        "**Hyperparameters**\n",
        "- Kernel: Linear\n",
        "- Regularization constant (C): 1.0\n",
        "- Input size: 1250\n",
        "- Output size: 5"
      ]
    },
    {
      "cell_type": "code",
      "execution_count": 8,
      "metadata": {
        "id": "LlyTtPG2Eirg"
      },
      "outputs": [
        {
          "data": {
            "text/html": [
              "<style>#sk-container-id-1 {color: black;background-color: white;}#sk-container-id-1 pre{padding: 0;}#sk-container-id-1 div.sk-toggleable {background-color: white;}#sk-container-id-1 label.sk-toggleable__label {cursor: pointer;display: block;width: 100%;margin-bottom: 0;padding: 0.3em;box-sizing: border-box;text-align: center;}#sk-container-id-1 label.sk-toggleable__label-arrow:before {content: \"▸\";float: left;margin-right: 0.25em;color: #696969;}#sk-container-id-1 label.sk-toggleable__label-arrow:hover:before {color: black;}#sk-container-id-1 div.sk-estimator:hover label.sk-toggleable__label-arrow:before {color: black;}#sk-container-id-1 div.sk-toggleable__content {max-height: 0;max-width: 0;overflow: hidden;text-align: left;background-color: #f0f8ff;}#sk-container-id-1 div.sk-toggleable__content pre {margin: 0.2em;color: black;border-radius: 0.25em;background-color: #f0f8ff;}#sk-container-id-1 input.sk-toggleable__control:checked~div.sk-toggleable__content {max-height: 200px;max-width: 100%;overflow: auto;}#sk-container-id-1 input.sk-toggleable__control:checked~label.sk-toggleable__label-arrow:before {content: \"▾\";}#sk-container-id-1 div.sk-estimator input.sk-toggleable__control:checked~label.sk-toggleable__label {background-color: #d4ebff;}#sk-container-id-1 div.sk-label input.sk-toggleable__control:checked~label.sk-toggleable__label {background-color: #d4ebff;}#sk-container-id-1 input.sk-hidden--visually {border: 0;clip: rect(1px 1px 1px 1px);clip: rect(1px, 1px, 1px, 1px);height: 1px;margin: -1px;overflow: hidden;padding: 0;position: absolute;width: 1px;}#sk-container-id-1 div.sk-estimator {font-family: monospace;background-color: #f0f8ff;border: 1px dotted black;border-radius: 0.25em;box-sizing: border-box;margin-bottom: 0.5em;}#sk-container-id-1 div.sk-estimator:hover {background-color: #d4ebff;}#sk-container-id-1 div.sk-parallel-item::after {content: \"\";width: 100%;border-bottom: 1px solid gray;flex-grow: 1;}#sk-container-id-1 div.sk-label:hover label.sk-toggleable__label {background-color: #d4ebff;}#sk-container-id-1 div.sk-serial::before {content: \"\";position: absolute;border-left: 1px solid gray;box-sizing: border-box;top: 0;bottom: 0;left: 50%;z-index: 0;}#sk-container-id-1 div.sk-serial {display: flex;flex-direction: column;align-items: center;background-color: white;padding-right: 0.2em;padding-left: 0.2em;position: relative;}#sk-container-id-1 div.sk-item {position: relative;z-index: 1;}#sk-container-id-1 div.sk-parallel {display: flex;align-items: stretch;justify-content: center;background-color: white;position: relative;}#sk-container-id-1 div.sk-item::before, #sk-container-id-1 div.sk-parallel-item::before {content: \"\";position: absolute;border-left: 1px solid gray;box-sizing: border-box;top: 0;bottom: 0;left: 50%;z-index: -1;}#sk-container-id-1 div.sk-parallel-item {display: flex;flex-direction: column;z-index: 1;position: relative;background-color: white;}#sk-container-id-1 div.sk-parallel-item:first-child::after {align-self: flex-end;width: 50%;}#sk-container-id-1 div.sk-parallel-item:last-child::after {align-self: flex-start;width: 50%;}#sk-container-id-1 div.sk-parallel-item:only-child::after {width: 0;}#sk-container-id-1 div.sk-dashed-wrapped {border: 1px dashed gray;margin: 0 0.4em 0.5em 0.4em;box-sizing: border-box;padding-bottom: 0.4em;background-color: white;}#sk-container-id-1 div.sk-label label {font-family: monospace;font-weight: bold;display: inline-block;line-height: 1.2em;}#sk-container-id-1 div.sk-label-container {text-align: center;}#sk-container-id-1 div.sk-container {/* jupyter's `normalize.less` sets `[hidden] { display: none; }` but bootstrap.min.css set `[hidden] { display: none !important; }` so we also need the `!important` here to be able to override the default hidden behavior on the sphinx rendered scikit-learn.org. See: https://github.com/scikit-learn/scikit-learn/issues/21755 */display: inline-block !important;position: relative;}#sk-container-id-1 div.sk-text-repr-fallback {display: none;}</style><div id=\"sk-container-id-1\" class=\"sk-top-container\"><div class=\"sk-text-repr-fallback\"><pre>SVC(kernel=&#x27;linear&#x27;, probability=True)</pre><b>In a Jupyter environment, please rerun this cell to show the HTML representation or trust the notebook. <br />On GitHub, the HTML representation is unable to render, please try loading this page with nbviewer.org.</b></div><div class=\"sk-container\" hidden><div class=\"sk-item\"><div class=\"sk-estimator sk-toggleable\"><input class=\"sk-toggleable__control sk-hidden--visually\" id=\"sk-estimator-id-1\" type=\"checkbox\" checked><label for=\"sk-estimator-id-1\" class=\"sk-toggleable__label sk-toggleable__label-arrow\">SVC</label><div class=\"sk-toggleable__content\"><pre>SVC(kernel=&#x27;linear&#x27;, probability=True)</pre></div></div></div></div></div>"
            ],
            "text/plain": [
              "SVC(kernel='linear', probability=True)"
            ]
          },
          "execution_count": 8,
          "metadata": {},
          "output_type": "execute_result"
        }
      ],
      "source": [
        "from sklearn.model_selection import train_test_split\n",
        "\n",
        "dataset, evalSet = trimDataset(1750, False)\n",
        "trainX, testX, trainY, testY = train_test_split(dataset, train_labels, shuffle=True, test_size=0.2, random_state=randomState)\n",
        "\n",
        "from sklearn import svm\n",
        "svm_model = svm.SVC(kernel='linear', C = 1.0, probability=True)\n",
        "\n",
        "svm_model.fit(trainX, trainY.values.ravel())"
      ]
    },
    {
      "cell_type": "code",
      "execution_count": 9,
      "metadata": {
        "id": "CSO3uLKWEirg"
      },
      "outputs": [
        {
          "name": "stdout",
          "output_type": "stream",
          "text": [
            "====== Training dataset results ======\n",
            "Training accuracy:  99.92%\n",
            "====== Validation dataset results ======\n",
            "Testing accuracy:  71.38%\n"
          ]
        }
      ],
      "source": [
        "from sklearn.metrics import accuracy_score\n",
        "\n",
        "train_pred = svm_model.predict(trainX)\n",
        "test_pred = svm_model.predict(testX)\n",
        "\n",
        "print(\"====== Training dataset results ======\")\n",
        "print(f\"Training accuracy: {accuracy_score(trainY, train_pred)*100: .2f}%\")\n",
        "print(\"====== Validation dataset results ======\")\n",
        "print(f\"Testing accuracy: {accuracy_score(testY, test_pred)*100: .2f}%\")\n",
        "\n",
        "# score = cross_val_score(svm_model, X=dataset, y=train_labels, cv=5, n_jobs=jobs, scoring='accuracy')\n",
        "# print(\"5-fold Cross validation score on eTree model\")\n",
        "# print(f\"Score: {score.mean()*100: .2f}%\\t[± {score.std()*100: .2f}%]\")"
      ]
    },
    {
      "attachments": {},
      "cell_type": "markdown",
      "metadata": {
        "id": "QSOxr7gaEirg"
      },
      "source": [
        "# XGBoost Classifier\n",
        "**Model Hyperparameters**\n",
        "- Number of trees in Forest: 1000\n",
        "- Input size: 1250\n",
        "- Output size: 5"
      ]
    },
    {
      "cell_type": "code",
      "execution_count": 10,
      "metadata": {
        "id": "DrDGDtb8Eirg"
      },
      "outputs": [
        {
          "name": "stdout",
          "output_type": "stream",
          "text": [
            "(1621, 1250) - Dataset shape prior to training\n",
            "XGBoost Training time: 61.31 s\n"
          ]
        }
      ],
      "source": [
        "import xgboost as xgb\n",
        "from sklearn.metrics import accuracy_score\n",
        "\n",
        "# Dataset Preparation\n",
        "dataset, evalSet = trimDataset(1250, True)\n",
        "dataset.sort_values(by=['sample_id'], inplace=True); evalSet.sort_values(by=['sample_id'], inplace=True)\n",
        "\n",
        "print(dataset.shape, '- Dataset shape prior to training')\n",
        "\n",
        "xgb_cl = xgb.XGBClassifier(n_estimators=1000, max_features=None, n_jobs=jobs)\n",
        "\n",
        "trainData, testData, trainLabels, testLabels = train_test_split(dataset, train_labels, shuffle=True, test_size=0.2, random_state=randomState)\n",
        "\n",
        "start = time.time()\n",
        "xgb_cl.fit(trainData, trainLabels)\n",
        "totalTime = time.time() - start\n",
        "print(f'XGBoost Training time: {round(totalTime, ndigits=2)} s')\n",
        "\n",
        "test_preds = xgb_cl.predict(testData)"
      ]
    },
    {
      "cell_type": "code",
      "execution_count": 11,
      "metadata": {
        "id": "ljsGo3DtEirh"
      },
      "outputs": [
        {
          "name": "stdout",
          "output_type": "stream",
          "text": [
            "====== Validation dataset results ======\n",
            "Testing accuracy:  76.92%\n"
          ]
        }
      ],
      "source": [
        "from sklearn.model_selection import cross_val_score\n",
        "\n",
        "a_s1 = accuracy_score(testLabels, test_preds)*100\n",
        "\n",
        "print(\"====== Validation dataset results ======\")\n",
        "print(f\"Testing accuracy: {a_s1: .2f}%\")\n",
        "\n",
        "# scores_2 = cross_val_score(xgb_cl, dataset, train_labels, cv=5, n_jobs=jobs)\n",
        "# print(\"%0.2f accuracy with a standard deviation of %0.2f\" % (scores_2.mean()*100, scores_2.std()*100))"
      ]
    },
    {
      "attachments": {},
      "cell_type": "markdown",
      "metadata": {},
      "source": [
        "# Model Stacking\n",
        "### Technique: Voting"
      ]
    },
    {
      "cell_type": "code",
      "execution_count": 12,
      "metadata": {},
      "outputs": [
        {
          "data": {
            "text/html": [
              "<style>#sk-container-id-2 {color: black;background-color: white;}#sk-container-id-2 pre{padding: 0;}#sk-container-id-2 div.sk-toggleable {background-color: white;}#sk-container-id-2 label.sk-toggleable__label {cursor: pointer;display: block;width: 100%;margin-bottom: 0;padding: 0.3em;box-sizing: border-box;text-align: center;}#sk-container-id-2 label.sk-toggleable__label-arrow:before {content: \"▸\";float: left;margin-right: 0.25em;color: #696969;}#sk-container-id-2 label.sk-toggleable__label-arrow:hover:before {color: black;}#sk-container-id-2 div.sk-estimator:hover label.sk-toggleable__label-arrow:before {color: black;}#sk-container-id-2 div.sk-toggleable__content {max-height: 0;max-width: 0;overflow: hidden;text-align: left;background-color: #f0f8ff;}#sk-container-id-2 div.sk-toggleable__content pre {margin: 0.2em;color: black;border-radius: 0.25em;background-color: #f0f8ff;}#sk-container-id-2 input.sk-toggleable__control:checked~div.sk-toggleable__content {max-height: 200px;max-width: 100%;overflow: auto;}#sk-container-id-2 input.sk-toggleable__control:checked~label.sk-toggleable__label-arrow:before {content: \"▾\";}#sk-container-id-2 div.sk-estimator input.sk-toggleable__control:checked~label.sk-toggleable__label {background-color: #d4ebff;}#sk-container-id-2 div.sk-label input.sk-toggleable__control:checked~label.sk-toggleable__label {background-color: #d4ebff;}#sk-container-id-2 input.sk-hidden--visually {border: 0;clip: rect(1px 1px 1px 1px);clip: rect(1px, 1px, 1px, 1px);height: 1px;margin: -1px;overflow: hidden;padding: 0;position: absolute;width: 1px;}#sk-container-id-2 div.sk-estimator {font-family: monospace;background-color: #f0f8ff;border: 1px dotted black;border-radius: 0.25em;box-sizing: border-box;margin-bottom: 0.5em;}#sk-container-id-2 div.sk-estimator:hover {background-color: #d4ebff;}#sk-container-id-2 div.sk-parallel-item::after {content: \"\";width: 100%;border-bottom: 1px solid gray;flex-grow: 1;}#sk-container-id-2 div.sk-label:hover label.sk-toggleable__label {background-color: #d4ebff;}#sk-container-id-2 div.sk-serial::before {content: \"\";position: absolute;border-left: 1px solid gray;box-sizing: border-box;top: 0;bottom: 0;left: 50%;z-index: 0;}#sk-container-id-2 div.sk-serial {display: flex;flex-direction: column;align-items: center;background-color: white;padding-right: 0.2em;padding-left: 0.2em;position: relative;}#sk-container-id-2 div.sk-item {position: relative;z-index: 1;}#sk-container-id-2 div.sk-parallel {display: flex;align-items: stretch;justify-content: center;background-color: white;position: relative;}#sk-container-id-2 div.sk-item::before, #sk-container-id-2 div.sk-parallel-item::before {content: \"\";position: absolute;border-left: 1px solid gray;box-sizing: border-box;top: 0;bottom: 0;left: 50%;z-index: -1;}#sk-container-id-2 div.sk-parallel-item {display: flex;flex-direction: column;z-index: 1;position: relative;background-color: white;}#sk-container-id-2 div.sk-parallel-item:first-child::after {align-self: flex-end;width: 50%;}#sk-container-id-2 div.sk-parallel-item:last-child::after {align-self: flex-start;width: 50%;}#sk-container-id-2 div.sk-parallel-item:only-child::after {width: 0;}#sk-container-id-2 div.sk-dashed-wrapped {border: 1px dashed gray;margin: 0 0.4em 0.5em 0.4em;box-sizing: border-box;padding-bottom: 0.4em;background-color: white;}#sk-container-id-2 div.sk-label label {font-family: monospace;font-weight: bold;display: inline-block;line-height: 1.2em;}#sk-container-id-2 div.sk-label-container {text-align: center;}#sk-container-id-2 div.sk-container {/* jupyter's `normalize.less` sets `[hidden] { display: none; }` but bootstrap.min.css set `[hidden] { display: none !important; }` so we also need the `!important` here to be able to override the default hidden behavior on the sphinx rendered scikit-learn.org. See: https://github.com/scikit-learn/scikit-learn/issues/21755 */display: inline-block !important;position: relative;}#sk-container-id-2 div.sk-text-repr-fallback {display: none;}</style><div id=\"sk-container-id-2\" class=\"sk-top-container\"><div class=\"sk-text-repr-fallback\"><pre>VotingClassifier(estimators=[(&#x27;svc&#x27;, SVC(kernel=&#x27;linear&#x27;, probability=True)),\n",
              "                             (&#x27;xgb&#x27;,\n",
              "                              XGBClassifier(base_score=None, booster=None,\n",
              "                                            callbacks=None,\n",
              "                                            colsample_bylevel=None,\n",
              "                                            colsample_bynode=None,\n",
              "                                            colsample_bytree=None,\n",
              "                                            early_stopping_rounds=None,\n",
              "                                            enable_categorical=False,\n",
              "                                            eval_metric=None,\n",
              "                                            feature_types=None, gamma=None,\n",
              "                                            gpu_id=None, grow_policy=None,\n",
              "                                            importance_type...\n",
              "                                            max_cat_to_onehot=None,\n",
              "                                            max_delta_step=None, max_depth=None,\n",
              "                                            max_features=None, max_leaves=None,\n",
              "                                            min_child_weight=None, missing=nan,\n",
              "                                            monotone_constraints=None,\n",
              "                                            n_estimators=1000, n_jobs=6,\n",
              "                                            num_parallel_tree=None,\n",
              "                                            objective=&#x27;multi:softprob&#x27;, ...)),\n",
              "                             (&#x27;eTree&#x27;,\n",
              "                              ExtraTreesClassifier(criterion=&#x27;log_loss&#x27;,\n",
              "                                                   max_features=None,\n",
              "                                                   n_estimators=1000,\n",
              "                                                   n_jobs=6))],\n",
              "                 n_jobs=6, voting=&#x27;soft&#x27;)</pre><b>In a Jupyter environment, please rerun this cell to show the HTML representation or trust the notebook. <br />On GitHub, the HTML representation is unable to render, please try loading this page with nbviewer.org.</b></div><div class=\"sk-container\" hidden><div class=\"sk-item sk-dashed-wrapped\"><div class=\"sk-label-container\"><div class=\"sk-label sk-toggleable\"><input class=\"sk-toggleable__control sk-hidden--visually\" id=\"sk-estimator-id-2\" type=\"checkbox\" ><label for=\"sk-estimator-id-2\" class=\"sk-toggleable__label sk-toggleable__label-arrow\">VotingClassifier</label><div class=\"sk-toggleable__content\"><pre>VotingClassifier(estimators=[(&#x27;svc&#x27;, SVC(kernel=&#x27;linear&#x27;, probability=True)),\n",
              "                             (&#x27;xgb&#x27;,\n",
              "                              XGBClassifier(base_score=None, booster=None,\n",
              "                                            callbacks=None,\n",
              "                                            colsample_bylevel=None,\n",
              "                                            colsample_bynode=None,\n",
              "                                            colsample_bytree=None,\n",
              "                                            early_stopping_rounds=None,\n",
              "                                            enable_categorical=False,\n",
              "                                            eval_metric=None,\n",
              "                                            feature_types=None, gamma=None,\n",
              "                                            gpu_id=None, grow_policy=None,\n",
              "                                            importance_type...\n",
              "                                            max_cat_to_onehot=None,\n",
              "                                            max_delta_step=None, max_depth=None,\n",
              "                                            max_features=None, max_leaves=None,\n",
              "                                            min_child_weight=None, missing=nan,\n",
              "                                            monotone_constraints=None,\n",
              "                                            n_estimators=1000, n_jobs=6,\n",
              "                                            num_parallel_tree=None,\n",
              "                                            objective=&#x27;multi:softprob&#x27;, ...)),\n",
              "                             (&#x27;eTree&#x27;,\n",
              "                              ExtraTreesClassifier(criterion=&#x27;log_loss&#x27;,\n",
              "                                                   max_features=None,\n",
              "                                                   n_estimators=1000,\n",
              "                                                   n_jobs=6))],\n",
              "                 n_jobs=6, voting=&#x27;soft&#x27;)</pre></div></div></div><div class=\"sk-parallel\"><div class=\"sk-parallel-item\"><div class=\"sk-item\"><div class=\"sk-label-container\"><div class=\"sk-label sk-toggleable\"><label>svc</label></div></div><div class=\"sk-serial\"><div class=\"sk-item\"><div class=\"sk-estimator sk-toggleable\"><input class=\"sk-toggleable__control sk-hidden--visually\" id=\"sk-estimator-id-3\" type=\"checkbox\" ><label for=\"sk-estimator-id-3\" class=\"sk-toggleable__label sk-toggleable__label-arrow\">SVC</label><div class=\"sk-toggleable__content\"><pre>SVC(kernel=&#x27;linear&#x27;, probability=True)</pre></div></div></div></div></div></div><div class=\"sk-parallel-item\"><div class=\"sk-item\"><div class=\"sk-label-container\"><div class=\"sk-label sk-toggleable\"><label>xgb</label></div></div><div class=\"sk-serial\"><div class=\"sk-item\"><div class=\"sk-estimator sk-toggleable\"><input class=\"sk-toggleable__control sk-hidden--visually\" id=\"sk-estimator-id-4\" type=\"checkbox\" ><label for=\"sk-estimator-id-4\" class=\"sk-toggleable__label sk-toggleable__label-arrow\">XGBClassifier</label><div class=\"sk-toggleable__content\"><pre>XGBClassifier(base_score=None, booster=None, callbacks=None,\n",
              "              colsample_bylevel=None, colsample_bynode=None,\n",
              "              colsample_bytree=None, early_stopping_rounds=None,\n",
              "              enable_categorical=False, eval_metric=None, feature_types=None,\n",
              "              gamma=None, gpu_id=None, grow_policy=None, importance_type=None,\n",
              "              interaction_constraints=None, learning_rate=None, max_bin=None,\n",
              "              max_cat_threshold=None, max_cat_to_onehot=None,\n",
              "              max_delta_step=None, max_depth=None, max_features=None,\n",
              "              max_leaves=None, min_child_weight=None, missing=nan,\n",
              "              monotone_constraints=None, n_estimators=1000, n_jobs=6,\n",
              "              num_parallel_tree=None, objective=&#x27;multi:softprob&#x27;, ...)</pre></div></div></div></div></div></div><div class=\"sk-parallel-item\"><div class=\"sk-item\"><div class=\"sk-label-container\"><div class=\"sk-label sk-toggleable\"><label>eTree</label></div></div><div class=\"sk-serial\"><div class=\"sk-item\"><div class=\"sk-estimator sk-toggleable\"><input class=\"sk-toggleable__control sk-hidden--visually\" id=\"sk-estimator-id-5\" type=\"checkbox\" ><label for=\"sk-estimator-id-5\" class=\"sk-toggleable__label sk-toggleable__label-arrow\">ExtraTreesClassifier</label><div class=\"sk-toggleable__content\"><pre>ExtraTreesClassifier(criterion=&#x27;log_loss&#x27;, max_features=None, n_estimators=1000,\n",
              "                     n_jobs=6)</pre></div></div></div></div></div></div></div></div></div></div>"
            ],
            "text/plain": [
              "VotingClassifier(estimators=[('svc', SVC(kernel='linear', probability=True)),\n",
              "                             ('xgb',\n",
              "                              XGBClassifier(base_score=None, booster=None,\n",
              "                                            callbacks=None,\n",
              "                                            colsample_bylevel=None,\n",
              "                                            colsample_bynode=None,\n",
              "                                            colsample_bytree=None,\n",
              "                                            early_stopping_rounds=None,\n",
              "                                            enable_categorical=False,\n",
              "                                            eval_metric=None,\n",
              "                                            feature_types=None, gamma=None,\n",
              "                                            gpu_id=None, grow_policy=None,\n",
              "                                            importance_type...\n",
              "                                            max_cat_to_onehot=None,\n",
              "                                            max_delta_step=None, max_depth=None,\n",
              "                                            max_features=None, max_leaves=None,\n",
              "                                            min_child_weight=None, missing=nan,\n",
              "                                            monotone_constraints=None,\n",
              "                                            n_estimators=1000, n_jobs=6,\n",
              "                                            num_parallel_tree=None,\n",
              "                                            objective='multi:softprob', ...)),\n",
              "                             ('eTree',\n",
              "                              ExtraTreesClassifier(criterion='log_loss',\n",
              "                                                   max_features=None,\n",
              "                                                   n_estimators=1000,\n",
              "                                                   n_jobs=6))],\n",
              "                 n_jobs=6, voting='soft')"
            ]
          },
          "execution_count": 12,
          "metadata": {},
          "output_type": "execute_result"
        }
      ],
      "source": [
        "from sklearn.ensemble import VotingClassifier\n",
        "\n",
        "# Dataset Preparation\n",
        "dataset, evalSet = trimDataset(1500, False)\n",
        "dataset.sort_values(by=['sample_id'], inplace=True); evalSet.sort_values(by=['sample_id'], inplace=True)\n",
        "trainX, testX, trainY, testY = train_test_split(dataset, train_labels, shuffle=True, test_size=0.2, random_state=randomState)\n",
        "\n",
        "# Voting Classifier setup\n",
        "vote_cl = VotingClassifier(estimators=[('svc', svm_model), ('xgb', xgb_cl), ('eTree', eTree)], n_jobs=jobs, voting='soft')\n",
        "\n",
        "vote_cl.fit(X=trainX, y=trainY.values.ravel())"
      ]
    },
    {
      "cell_type": "code",
      "execution_count": 13,
      "metadata": {},
      "outputs": [
        {
          "name": "stdout",
          "output_type": "stream",
          "text": [
            "Voting accuracy: 81.54%\n"
          ]
        }
      ],
      "source": [
        "vote_labels = vote_cl.predict(X=testX)\n",
        "vote_score = accuracy_score(testY, vote_labels)\n",
        "print(f\"Voting accuracy: {round(vote_score*100, 2)}%\")\n",
        "\n",
        "# score = cross_val_score(vote_cl, X=dataset, y=train_labels, cv=5, n_jobs=jobs, scoring='accuracy')\n",
        "# print(\"5-fold Cross validation score on Voting combination model\")\n",
        "# print(f\"Score: {score.mean()*100: .2f}\\t[± {score.std()*100: .2f}]\")"
      ]
    },
    {
      "cell_type": "code",
      "execution_count": 16,
      "metadata": {},
      "outputs": [],
      "source": [
        "import pickle\n",
        "\n",
        "fname = f'vote_cl_acc{round(vote_score*100, 0)}'\n",
        "pickle.dump(vote_cl, fname)"
      ]
    },
    {
      "cell_type": "code",
      "execution_count": 14,
      "metadata": {},
      "outputs": [
        {
          "data": {
            "image/png": "[encoded data removed]",
            "text/plain": [
              "<Figure size 640x480 with 2 Axes>"
            ]
          },
          "metadata": {},
          "output_type": "display_data"
        }
      ],
      "source": [
        "from sklearn.metrics import confusion_matrix, ConfusionMatrixDisplay\n",
        "from sklearn.metrics import PrecisionRecallDisplay\n",
        "\n",
        "label_names = ['Normal Walk', 'Fast Walk', 'Ascent', 'Descent', 'Jumping Jacks']\n",
        "cm = confusion_matrix(vote_labels, testY)\n",
        "matrix = ConfusionMatrixDisplay(cm, display_labels=label_names)\n",
        "matrix.plot(); plt.title('Confusion matrix for combined model using validation set'); plt.show();"
      ]
    },
    {
      "cell_type": "code",
      "execution_count": 15,
      "metadata": {},
      "outputs": [
        {
          "ename": "KeyError",
          "evalue": "0",
          "output_type": "error",
          "traceback": [
            "\u001b[1;31m---------------------------------------------------------------------------\u001b[0m",
            "\u001b[1;31mKeyError\u001b[0m                                  Traceback (most recent call last)",
            "File \u001b[1;32mc:\\Users\\googl\\microconda\\envs\\ML\\lib\\site-packages\\pandas\\core\\indexes\\base.py:3802\u001b[0m, in \u001b[0;36mIndex.get_loc\u001b[1;34m(self, key, method, tolerance)\u001b[0m\n\u001b[0;32m   3801\u001b[0m \u001b[39mtry\u001b[39;00m:\n\u001b[1;32m-> 3802\u001b[0m     \u001b[39mreturn\u001b[39;00m \u001b[39mself\u001b[39;49m\u001b[39m.\u001b[39;49m_engine\u001b[39m.\u001b[39;49mget_loc(casted_key)\n\u001b[0;32m   3803\u001b[0m \u001b[39mexcept\u001b[39;00m \u001b[39mKeyError\u001b[39;00m \u001b[39mas\u001b[39;00m err:\n",
            "File \u001b[1;32mc:\\Users\\googl\\microconda\\envs\\ML\\lib\\site-packages\\pandas\\_libs\\index.pyx:138\u001b[0m, in \u001b[0;36mpandas._libs.index.IndexEngine.get_loc\u001b[1;34m()\u001b[0m\n",
            "File \u001b[1;32mc:\\Users\\googl\\microconda\\envs\\ML\\lib\\site-packages\\pandas\\_libs\\index.pyx:165\u001b[0m, in \u001b[0;36mpandas._libs.index.IndexEngine.get_loc\u001b[1;34m()\u001b[0m\n",
            "File \u001b[1;32mpandas\\_libs\\hashtable_class_helper.pxi:2263\u001b[0m, in \u001b[0;36mpandas._libs.hashtable.Int64HashTable.get_item\u001b[1;34m()\u001b[0m\n",
            "File \u001b[1;32mpandas\\_libs\\hashtable_class_helper.pxi:2273\u001b[0m, in \u001b[0;36mpandas._libs.hashtable.Int64HashTable.get_item\u001b[1;34m()\u001b[0m\n",
            "\u001b[1;31mKeyError\u001b[0m: 0",
            "\nThe above exception was the direct cause of the following exception:\n",
            "\u001b[1;31mKeyError\u001b[0m                                  Traceback (most recent call last)",
            "Cell \u001b[1;32mIn[15], line 9\u001b[0m\n\u001b[0;32m      7\u001b[0m \u001b[39m# Normal Walk PR Curve\u001b[39;00m\n\u001b[0;32m      8\u001b[0m true \u001b[39m=\u001b[39m convert_bin(vote_labels, \u001b[39m0\u001b[39m)\n\u001b[1;32m----> 9\u001b[0m pred \u001b[39m=\u001b[39m convert_bin(testY[\u001b[39m'\u001b[39;49m\u001b[39mlabel\u001b[39;49m\u001b[39m'\u001b[39;49m], \u001b[39m0\u001b[39;49m)\n\u001b[0;32m     11\u001b[0m normal_pr \u001b[39m=\u001b[39m PrecisionRecallDisplay\u001b[39m.\u001b[39mfrom_predictions(pred, true, name\u001b[39m=\u001b[39m\u001b[39m\"\u001b[39m\u001b[39mNormal Walk\u001b[39m\u001b[39m\"\u001b[39m)\n\u001b[0;32m     12\u001b[0m normal \u001b[39m=\u001b[39m normal_pr\u001b[39m.\u001b[39max_\u001b[39m.\u001b[39mset_title(\u001b[39m\"\u001b[39m\u001b[39mPrecision-Recall curve for Normal Walk vs. Other\u001b[39m\u001b[39m\"\u001b[39m)\n",
            "Cell \u001b[1;32mIn[15], line 4\u001b[0m, in \u001b[0;36mconvert_bin\u001b[1;34m(label_list, pos_label)\u001b[0m\n\u001b[0;32m      2\u001b[0m conv_list \u001b[39m=\u001b[39m []\n\u001b[0;32m      3\u001b[0m \u001b[39mfor\u001b[39;00m idx \u001b[39min\u001b[39;00m \u001b[39mrange\u001b[39m(\u001b[39mlen\u001b[39m(label_list)):\n\u001b[1;32m----> 4\u001b[0m   conv_list \u001b[39m+\u001b[39m\u001b[39m=\u001b[39m [\u001b[39m1\u001b[39m \u001b[39mif\u001b[39;00m label_list[idx] \u001b[39m==\u001b[39m pos_label \u001b[39melse\u001b[39;00m \u001b[39m0\u001b[39m]\n\u001b[0;32m      5\u001b[0m \u001b[39mreturn\u001b[39;00m conv_list\n",
            "File \u001b[1;32mc:\\Users\\googl\\microconda\\envs\\ML\\lib\\site-packages\\pandas\\core\\series.py:981\u001b[0m, in \u001b[0;36mSeries.__getitem__\u001b[1;34m(self, key)\u001b[0m\n\u001b[0;32m    978\u001b[0m     \u001b[39mreturn\u001b[39;00m \u001b[39mself\u001b[39m\u001b[39m.\u001b[39m_values[key]\n\u001b[0;32m    980\u001b[0m \u001b[39melif\u001b[39;00m key_is_scalar:\n\u001b[1;32m--> 981\u001b[0m     \u001b[39mreturn\u001b[39;00m \u001b[39mself\u001b[39;49m\u001b[39m.\u001b[39;49m_get_value(key)\n\u001b[0;32m    983\u001b[0m \u001b[39mif\u001b[39;00m is_hashable(key):\n\u001b[0;32m    984\u001b[0m     \u001b[39m# Otherwise index.get_value will raise InvalidIndexError\u001b[39;00m\n\u001b[0;32m    985\u001b[0m     \u001b[39mtry\u001b[39;00m:\n\u001b[0;32m    986\u001b[0m         \u001b[39m# For labels that don't resolve as scalars like tuples and frozensets\u001b[39;00m\n",
            "File \u001b[1;32mc:\\Users\\googl\\microconda\\envs\\ML\\lib\\site-packages\\pandas\\core\\series.py:1089\u001b[0m, in \u001b[0;36mSeries._get_value\u001b[1;34m(self, label, takeable)\u001b[0m\n\u001b[0;32m   1086\u001b[0m     \u001b[39mreturn\u001b[39;00m \u001b[39mself\u001b[39m\u001b[39m.\u001b[39m_values[label]\n\u001b[0;32m   1088\u001b[0m \u001b[39m# Similar to Index.get_value, but we do not fall back to positional\u001b[39;00m\n\u001b[1;32m-> 1089\u001b[0m loc \u001b[39m=\u001b[39m \u001b[39mself\u001b[39;49m\u001b[39m.\u001b[39;49mindex\u001b[39m.\u001b[39;49mget_loc(label)\n\u001b[0;32m   1090\u001b[0m \u001b[39mreturn\u001b[39;00m \u001b[39mself\u001b[39m\u001b[39m.\u001b[39mindex\u001b[39m.\u001b[39m_get_values_for_loc(\u001b[39mself\u001b[39m, loc, label)\n",
            "File \u001b[1;32mc:\\Users\\googl\\microconda\\envs\\ML\\lib\\site-packages\\pandas\\core\\indexes\\base.py:3804\u001b[0m, in \u001b[0;36mIndex.get_loc\u001b[1;34m(self, key, method, tolerance)\u001b[0m\n\u001b[0;32m   3802\u001b[0m     \u001b[39mreturn\u001b[39;00m \u001b[39mself\u001b[39m\u001b[39m.\u001b[39m_engine\u001b[39m.\u001b[39mget_loc(casted_key)\n\u001b[0;32m   3803\u001b[0m \u001b[39mexcept\u001b[39;00m \u001b[39mKeyError\u001b[39;00m \u001b[39mas\u001b[39;00m err:\n\u001b[1;32m-> 3804\u001b[0m     \u001b[39mraise\u001b[39;00m \u001b[39mKeyError\u001b[39;00m(key) \u001b[39mfrom\u001b[39;00m \u001b[39merr\u001b[39;00m\n\u001b[0;32m   3805\u001b[0m \u001b[39mexcept\u001b[39;00m \u001b[39mTypeError\u001b[39;00m:\n\u001b[0;32m   3806\u001b[0m     \u001b[39m# If we have a listlike key, _check_indexing_error will raise\u001b[39;00m\n\u001b[0;32m   3807\u001b[0m     \u001b[39m#  InvalidIndexError. Otherwise we fall through and re-raise\u001b[39;00m\n\u001b[0;32m   3808\u001b[0m     \u001b[39m#  the TypeError.\u001b[39;00m\n\u001b[0;32m   3809\u001b[0m     \u001b[39mself\u001b[39m\u001b[39m.\u001b[39m_check_indexing_error(key)\n",
            "\u001b[1;31mKeyError\u001b[0m: 0"
          ]
        }
      ],
      "source": [
        "def convert_bin(label_list, pos_label):\n",
        "  conv_list = []\n",
        "  for idx in range(len(label_list)):\n",
        "    conv_list += [1 if label_list[idx] == pos_label else 0]\n",
        "  return conv_list\n",
        "\n",
        "# Normal Walk PR Curve\n",
        "true = convert_bin(vote_labels, 0)\n",
        "pred = convert_bin(testY['label'], 0)\n",
        "\n",
        "normal_pr = PrecisionRecallDisplay.from_predictions(pred, true, name=\"Normal Walk\")\n",
        "normal = normal_pr.ax_.set_title(\"Precision-Recall curve for Normal Walk vs. Other\")"
      ]
    }
  ],
  "metadata": {
    "kernelspec": {
      "display_name": "Python 3",
      "language": "python",
      "name": "python3"
    },
    "language_info": {
      "codemirror_mode": {
        "name": "ipython",
        "version": 3
      },
      "file_extension": ".py",
      "mimetype": "text/x-python",
      "name": "python",
      "nbconvert_exporter": "python",
      "pygments_lexer": "ipython3",
      "version": "3.9.16"
    },
    "orig_nbformat": 4
  },
  "nbformat": 4,
  "nbformat_minor": 2
}
