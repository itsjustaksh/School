{
  "cells": [
    {
      "cell_type": "markdown",
      "metadata": {
        "id": "PGuAmMpysXXJ"
      },
      "source": [
        "# SYSC4415 - Assignment 2\n",
        "\n",
        "**TA: François Charih \\<francois@charih.ca\\>**\n",
        "\n",
        "**Deadline: March 19th, 2023 @ 11:59PM**\n",
        "\n",
        "## Learning objectives\n",
        "\n",
        "1. Fine-tune pre-trained CNN architectures for a custom image classification challenge.\n",
        "\n",
        "2. Evaluate the performance of machine learning models using different metrics (precision-recall curve, confusion matrices, *etc.*).\n",
        "\n",
        "3. Get hands-on experience with modern machine learning and plotting libraries.\n",
        "\n",
        "## Instructions\n",
        "\n",
        "1. Give yourself plenty of time to complete the assignment (it could take you up to 8-10 hours if you are unfamiliar with Python and machine learning libraries). The models should not take more than 1h to fine-tune (my full notebook runs from start to end in a little under 40 minutes. Coding will be the most time-consuming. ⚠️**Do not wait to the last minute.** ⚠️\n",
        "\n",
        "2. You must use the prescribed methods/functions/libraries mentioned, whenever specified. The functions you need are already imported for you in the appropriate sections. You can reorganize the imports and import the full packages instead of specific functions if you so desire. I imported the necessary function for you so that they are ready to be invoked without have to specify the full path to the functions with the dot operator (i.e. so that you invoke `function()` instead of `package.module.function()`).\n",
        "\n",
        "3. Make sure to include comments for non-trivial code. It is okay to add some code cells, if you think it will give your code better readability/structure.\n",
        "\n",
        "4. If you are unsure about something, clearly state your assumptions and complete the question based off these assumptions.\n",
        "\n",
        "5. Be careful as you complete the assignment. There are several text-based questions to be answered in Markdown (text) cells. The questions are accompanied by the ❓ emoji. Your answers should be entered in the markdown cells with the 📝 emoji.\n",
        "\n",
        "6. Submit your Notebook as both a `.ipynb` file that adopts this naming convention: *SYSC4415W23_A2_\\<First Name\\>_\\<Last Name\\>_\\<StudentID\\>.ipynb* on Brightspace. I should be able to run your code without errors.\n",
        "\n",
        "7. Make sure you enable a GPU accelerator (in Runtime > Change runtime type) starting at Part 4 and that your training code uses it. GPU resources are limited, so it is recommended not to use the accelerator for prior steps.\n",
        "\n",
        "8. All plots should be made with matplotlib and labeled properly (ie. include axis labels and legends).\n",
        "\n",
        "## Context\n",
        "\n",
        "It is 2030, and a new RNA virus named SARS-CoV-3 is wreaking havoc across the globe. Its death rate is estimated at 95%, making it one of the deadliest  respiratory viruses known to mankind. Fortunately, an Ottawa-based biotech company developed a nasally-delivered vaccine *Greenraza*™️ that can neutralize the virus in living patients. However, administrating the vaccine increases the risk of lung cancer by a whooping 60%. It is therefore vital that the drug be administered to infected patients only, not to patients infected with another respiratory virus such as the common cold or influenza. The virus cannot be detected through blood or breath analyses. It can only be detected by means of x-ray imaging.\n",
        "\n",
        "Having heard of your newly developed expertise in deep learning, you have been tasked by the Ottawa Hospital with the design of a machine learning model capable of distinguishing patients infected with SARS-CoV-3 from patients that have pneumonia and non-infected patients. Healthy patients can be discharged, while patients with pneumonia must be isolated, but without being given *Greenraza*™️."
      ]
    },
    {
      "cell_type": "markdown",
      "metadata": {
        "id": "c33I6cJzIn0O"
      },
      "source": [
        "## Project initialization\n",
        "\n",
        "Run the cells below to set-up the notebook (ie. download the dataset) and install the required external libraries."
      ]
    },
    {
      "cell_type": "code",
      "execution_count": 3,
      "metadata": {
        "id": "TEbQzpX8j7bQ"
      },
      "outputs": [],
      "source": [
        "# RUN THIS (downloads the dataset)\n",
        "usingColab = False\n",
        "\n",
        "if usingColab:\n",
        "    ! rm -rf SYSC4415W23_A2_dataset SYSC4415W23_A2_dataset.zip\n",
        "    ! wget https://github.com/jrgreen7/SYSC4906/releases/download/Assignment2/SYSC4415W23_A2_dataset.zip && unzip SYSC4415W23_A2_dataset.zip"
      ]
    },
    {
      "cell_type": "code",
      "execution_count": 4,
      "metadata": {
        "id": "NanqafBgkZFO"
      },
      "outputs": [],
      "source": [
        "# RUN THIS (installs external libraries)\n",
        "if usingColab:\n",
        "    !pip install timm\n",
        "    !pip install git+https://github.com/nottombrown/imagenet_stubs\n",
        "    !pip install torchstat"
      ]
    },
    {
      "cell_type": "markdown",
      "metadata": {
        "id": "q1XKrzDrs11o"
      },
      "source": [
        "## Part 1: Preparing the dataset\n",
        "\n",
        "The Ottawa Hospital has provided you with a dataset to develop your model. The dataset is available here. The dataset contains a folder containing a spreadsheet with metadata for each image in the dataset and a subfolder containing the 200x200 images (with random filenames)."
      ]
    },
    {
      "cell_type": "code",
      "execution_count": 5,
      "metadata": {
        "id": "cLf1gprJKQ1v"
      },
      "outputs": [],
      "source": [
        "from pandas import read_csv\n",
        "from matplotlib.pyplot import bar, xlabel, ylabel, title, figure"
      ]
    },
    {
      "cell_type": "markdown",
      "metadata": {
        "id": "QHTpQfihKSsY"
      },
      "source": [
        "**Step 1:** Using pandas' `read_csv` function, load the dataframe containing the image metadata (`dataset_metadata.csv`)."
      ]
    },
    {
      "cell_type": "code",
      "execution_count": 6,
      "metadata": {
        "id": "1qhfruYusvHF"
      },
      "outputs": [],
      "source": [
        "# Loads the image metadata into a pandas dataframe\n",
        "\n",
        "# YOUR CODE HERE\n",
        "if usingColab:\n",
        "    csvPath = \"SYSC4415W23_A2_dataset\\\\dataset_metadata.csv\"\n",
        "    datasetPath = \"SYSC4415W23_A2_dataset\\\\\"\n",
        "    savePath = \"model\\\\\"\n",
        "else:\n",
        "    csvPath = r\"C:\\Users\\googl\\Documents\\ML\\Dataset\\dataset_metadata.csv\"\n",
        "    datasetPath = r\"C:\\Users\\googl\\Documents\\ML\\Dataset\"\n",
        "    savePath = r\"C:\\Users\\googl\\Documents\\ML\\Model\"\n",
        "metadata = read_csv(csvPath)"
      ]
    },
    {
      "cell_type": "markdown",
      "metadata": {
        "id": "btf3Q-VK_o1S"
      },
      "source": [
        "**Step 2:** Use the `head` method to print the top five rows of the dataframe."
      ]
    },
    {
      "cell_type": "code",
      "execution_count": 7,
      "metadata": {
        "id": "SkWvyTpjn8pE"
      },
      "outputs": [
        {
          "name": "stdout",
          "output_type": "stream",
          "text": [
            "          filename     split            xray_date  height  width   label\n",
            "0   272_normal.jpg  training  2030-11-18 06:50:42     200    200  normal\n",
            "1   788_normal.jpg  training  2030-06-20 21:32:45     200    200  normal\n",
            "2   622_normal.jpg  training  2030-07-12 06:56:19     200    200  normal\n",
            "3  1138_normal.jpg  training  2030-03-15 13:52:16     200    200  normal\n",
            "4  1568_normal.jpg  training  2030-12-22 22:09:18     200    200  normal\n"
          ]
        }
      ],
      "source": [
        "# Prints the top five rows in the dataset\n",
        "\n",
        "# YOUR CODE HERE\n",
        "\n",
        "print(metadata.head(5))"
      ]
    },
    {
      "cell_type": "markdown",
      "metadata": {
        "id": "n-ZA-MdI_zzN"
      },
      "source": [
        "**Step 3:** Using pandas' [query method](https://pandas.pydata.org/docs/user_guide/indexing.html#the-query-method) and the `len` methods on the selections, print the number of images in the training, validation and test sets."
      ]
    },
    {
      "cell_type": "code",
      "execution_count": 8,
      "metadata": {
        "id": "ewWdw9Zvx5x6"
      },
      "outputs": [
        {
          "name": "stdout",
          "output_type": "stream",
          "text": [
            "Dataframe size(R x C): 3372 x 6\n",
            "Split(Tr, T, V): 2222, 505, 645\n"
          ]
        }
      ],
      "source": [
        "# Prints the dimensions of the dataframe\n",
        "\n",
        "# YOUR CODE HERE\n",
        "print(f\"Dataframe size(R x C): {len(metadata)} x {len(metadata.columns)}\")\n",
        "trainCol = metadata.query('split == \\'training\\'')\n",
        "testCol = metadata.query('split == \\'test\\'')\n",
        "valCol = metadata.query('split == \\'validation\\'')\n",
        "\n",
        "print(f\"Split(Tr, T, V): {len(trainCol)}, {len(testCol)}, {len(valCol)}\")"
      ]
    },
    {
      "cell_type": "markdown",
      "metadata": {
        "id": "D_cEMcdnwzpo"
      },
      "source": [
        "**Step 4:** Using the `value_counts` method on the “label” column, provide the composition of the dataset in terms of the number of SARS-CoV-3 cases, pneumonia cases and healthy x-rays. In another cell, prepare a bar chart from that data using matplotlib's `bar` method. Note that the result of the `value_counts` methods is a series object whose property `index` is the label."
      ]
    },
    {
      "cell_type": "code",
      "execution_count": 9,
      "metadata": {
        "id": "XnNdC4_XxOV1"
      },
      "outputs": [
        {
          "name": "stdout",
          "output_type": "stream",
          "text": [
            "Label counts: \n",
            "Normal: 1500, Pneumonia: 1300, SARS-CoV-3: 572\n"
          ]
        }
      ],
      "source": [
        "# Generates a breakdown of the images' classes\n",
        "\n",
        "# YOUR CODE HERE\n",
        "counts = metadata.value_counts(subset=['label'])\n",
        "print(f\"Label counts: \\nNormal: {counts['normal']}, Pneumonia: {counts['pneumonia']}, SARS-CoV-3: {counts['sarscov3']}\")"
      ]
    },
    {
      "cell_type": "code",
      "execution_count": 10,
      "metadata": {
        "id": "DgEUaXfujlR3"
      },
      "outputs": [
        {
          "data": {
            "text/plain": [
              "Text(0.5, 1.0, 'Number of each type of training exampes')"
            ]
          },
          "execution_count": 10,
          "metadata": {},
          "output_type": "execute_result"
        },
        {
          "data": {
            "image/png": "[encoded data removed]",
            "text/plain": [
              "<Figure size 1000x1000 with 1 Axes>"
            ]
          },
          "metadata": {},
          "output_type": "display_data"
        }
      ],
      "source": [
        "# Plots a bar chart\n",
        "\n",
        "# YOUR CODE HERE\n",
        "vals = [counts['normal'], counts['pneumonia'], counts['sarscov3']]\n",
        "keys = ['Normal', 'Pneumonia', 'SARS-CoV-3']\n",
        "\n",
        "fig = figure(figsize=(10,10))\n",
        "bar(x=keys, height=vals, width=0.5, bottom=0)\n",
        "xlabel(\"Data Label\")\n",
        "ylabel(\"Num examples\")\n",
        "title(\"Number of each type of training exampes\")\n"
      ]
    },
    {
      "cell_type": "markdown",
      "metadata": {
        "id": "7actPHfExeYB"
      },
      "source": [
        "❓ ***Question: Is the data balanced or not? If not, specify why class imbalance makes classification more difficult, and suggest one method you could use to deal with the imbalanced data.***"
      ]
    },
    {
      "attachments": {},
      "cell_type": "markdown",
      "metadata": {
        "id": "6QR5HTn_m9P6"
      },
      "source": [
        "📝 No, the dataset is not balanced. There are far more examples of normal and pneumonia than SARS-Cov3. Using data augmentation to create additional training examples from the limited dataset is a good way to deal with the imbalance."
      ]
    },
    {
      "cell_type": "markdown",
      "metadata": {
        "id": "2gGFYwdHBWvZ"
      },
      "source": [
        "## Part 2: Applying pre-trained CNN models to the data\n",
        "\n",
        "Researchers make pre-trained neural networks available to the community at large. There are many, many pre-trained CNNs available in online repositories that researchers can leverage for their own applications."
      ]
    },
    {
      "cell_type": "code",
      "execution_count": 1,
      "metadata": {
        "id": "vNx-cQJlKCi6"
      },
      "outputs": [],
      "source": [
        "from torchvision.io import read_image\n",
        "from timm import create_model\n",
        "from matplotlib.pyplot import imread, imshow\n",
        "from imagenet_stubs.imagenet_2012_labels import label_to_name\n",
        "import torch"
      ]
    },
    {
      "cell_type": "markdown",
      "metadata": {
        "id": "fxQ7F3K6KCvM"
      },
      "source": [
        "**Step 1:** Display the image `SYSC4415W23_A2_dataset/training/sarscov3/100_sarscov3.jpg` from the test set. The matplotlib methods `imread` and `imshow` are useful. 😉"
      ]
    },
    {
      "cell_type": "code",
      "execution_count": 11,
      "metadata": {
        "id": "ckGQkYL6k41-"
      },
      "outputs": [
        {
          "data": {
            "text/plain": [
              "<matplotlib.image.AxesImage at 0x1687c024940>"
            ]
          },
          "execution_count": 11,
          "metadata": {},
          "output_type": "execute_result"
        },
        {
          "data": {
            "image/png": "[encoded data removed]",
            "text/plain": [
              "<Figure size 640x480 with 1 Axes>"
            ]
          },
          "metadata": {},
          "output_type": "display_data"
        }
      ],
      "source": [
        "# Display the image with matplotlib's imread/imshow\n",
        "\n",
        "# YOUR CODE HERE\n",
        "pic = imread(f\"{datasetPath}//training//sarscov3//100_sarscov3.jpg\")\n",
        "imshow(pic)"
      ]
    },
    {
      "cell_type": "markdown",
      "metadata": {
        "id": "42hsfWsyBDPr"
      },
      "source": [
        "**Step 2:** Load the ImageNet-pretrained InceptionV3 (`inception_v3`) and ResNet50 (`resnet50`) models with `timm` (this was done in Anthony's CIFAR100 tutorial with PyTorch). Use them to predict the class of the image along with the probability (not the logit). The probability is the result of applying the softmax function to the logits.\n",
        "\n",
        "Of course, because the models were pretrained on ImageNet, it will not predict any of the classes that interest us.\n",
        "\n",
        "***Notes:**\n",
        "1. The `read_image` function can convert an image on disk to a tensor.\n",
        "\n",
        "2. The function `label_to_name` that I imported for you converts the index of an ImageNet class to its English name."
      ]
    },
    {
      "cell_type": "code",
      "execution_count": 12,
      "metadata": {
        "id": "yJ49xCUJl_ao"
      },
      "outputs": [],
      "source": [
        "# Loads the image in a Tensor (the method read_image can load the image in a tensor), calls unsqueeze(0) on the tensor to add a dimension and convert its entries to floats using the .float() method\n",
        "\n",
        "# YOUR CODE HERE\n",
        "\n",
        "imgTensor = read_image(f\"{datasetPath}\\\\training\\\\sarscov3\\\\100_sarscov3.jpg\")"
      ]
    },
    {
      "cell_type": "code",
      "execution_count": 14,
      "metadata": {
        "id": "Qy3maVQ9CJag"
      },
      "outputs": [
        {
          "name": "stdout",
          "output_type": "stream",
          "text": [
            "Done!\n"
          ]
        }
      ],
      "source": [
        "# Loads the InceptionV3 model predicted class along with its probability\n",
        "\n",
        "# YOUR CODE HERE\n",
        "inception = create_model(model_name='inception_v3', pretrained=True)\n",
        "# inception.cuda()\n",
        "\n",
        "print(\"Done!\")"
      ]
    },
    {
      "cell_type": "code",
      "execution_count": 15,
      "metadata": {
        "id": "BP_or0WhEhyH"
      },
      "outputs": [
        {
          "name": "stderr",
          "output_type": "stream",
          "text": [
            "Downloading: \"https://github.com/rwightman/pytorch-image-models/releases/download/v0.1-rsb-weights/resnet50_a1_0-14fe96d1.pth\" to C:\\Users\\googl/.cache\\torch\\hub\\checkpoints\\resnet50_a1_0-14fe96d1.pth\n"
          ]
        },
        {
          "name": "stdout",
          "output_type": "stream",
          "text": [
            "Done!\n"
          ]
        }
      ],
      "source": [
        "# Loads the ResNet50 model predicted class along with its probability\n",
        "\n",
        "# YOUR CODE HERE\n",
        "\n",
        "resnet = create_model(model_name='resnet50', pretrained=True)\n",
        "# resnet.cuda()\n",
        "\n",
        "print(\"Done!\")"
      ]
    },
    {
      "cell_type": "markdown",
      "metadata": {
        "id": "IBxaFdfdwnpU"
      },
      "source": [
        "❓ ***Question: What classes are predicted for the two models? Are the models confident? Is it a good thing?***"
      ]
    },
    {
      "cell_type": "markdown",
      "metadata": {
        "id": "hjw-R-FdxlFh"
      },
      "source": [
        "📝 YOUR ANSWERS GO HERE"
      ]
    },
    {
      "cell_type": "markdown",
      "metadata": {
        "id": "soeLJWebR8Oy"
      },
      "source": [
        "## Part 3: Instantiating the dataloaders to perform fine tuning\n",
        "When working with large image datasets with PyTorch, people often implement a DataLoader to help manage how images are loaded during training. The dataloader can be combined with methods that implement data augmentation by modifying the images with transforms (eg. scaling, rotation, reflection, cropping, etc.). For the most common applications, there are existing data loaders that are perfectly suitable and that users can use instead of defining their own.\n"
      ]
    },
    {
      "cell_type": "code",
      "execution_count": 16,
      "metadata": {
        "id": "NZROCPrvJ8sb"
      },
      "outputs": [],
      "source": [
        "from torch.utils.data import DataLoader\n",
        "from torchvision.datasets import ImageFolder\n",
        "from torchvision import datasets, transforms"
      ]
    },
    {
      "cell_type": "markdown",
      "metadata": {
        "id": "U0yxnCVsKiIL"
      },
      "source": [
        "**Step 1:** Using the `ImageFolder` strategy to build a dataloader with a batch size of 128 for training. ([This tutorial](https://pytorch.org/tutorials/beginner/data_loading_tutorial.html#afterword-torchvision) is most helpful.)\n",
        "\n",
        "You will also want your dataloader for your training set to apply the following data augmentation transforms (documentation available [here](https://pytorch.org/vision/stable/transforms.html)):\n",
        "\n",
        "1. Random rotation between -10 and 10\n",
        "2. Random horizontal flip with 40% probability"
      ]
    },
    {
      "cell_type": "code",
      "execution_count": 17,
      "metadata": {
        "id": "Acm52Rn_ayUP"
      },
      "outputs": [],
      "source": [
        "# Creates the dataset and dataloader that will be used for training\n",
        "\n",
        "# YOUR CODE HERE\n",
        "batch_size = 32\n",
        "d_transform = transforms.Compose([\n",
        "    transforms.RandomHorizontalFlip(p=0.4),\n",
        "    transforms.RandomRotation(degrees=(-10,10)),\n",
        "    transforms.ToTensor()\n",
        "])\n",
        "\n",
        "trainSet = ImageFolder(root=f\"{datasetPath}\\\\training\", transform=d_transform)\n",
        "workers = 0 if usingColab else 4\n",
        "trainLoad = DataLoader(dataset=trainSet, batch_size=batch_size, shuffle=1, num_workers=workers)"
      ]
    },
    {
      "cell_type": "markdown",
      "metadata": {
        "id": "fj5c1hYV8Oxi"
      },
      "source": [
        "**Step 2**: Create the dataloaders you will be using for validation and testing. The transform should only convert the images to a tensor. You should not specify a batch size for the test set dataloader."
      ]
    },
    {
      "cell_type": "code",
      "execution_count": 18,
      "metadata": {
        "id": "DmGqrtFN6p7e"
      },
      "outputs": [],
      "source": [
        "# Creates the dataloader that will be used for validation\n",
        "\n",
        "# YOUR CODE HERE\n",
        "d_transform = transforms.Compose([\n",
        "    transforms.ToTensor()\n",
        "])\n",
        "\n",
        "valSet = ImageFolder(root=f\"{datasetPath}\\\\validation\", transform=d_transform)\n",
        "valLoad = DataLoader(dataset=valSet, batch_size=batch_size, shuffle=1, num_workers=workers)"
      ]
    },
    {
      "cell_type": "code",
      "execution_count": 19,
      "metadata": {
        "id": "XX-Gkx8iK7XX"
      },
      "outputs": [],
      "source": [
        "# Creates the dataloader that will be used testing\n",
        "\n",
        "# YOUR CODE HERE\n",
        "testSet = ImageFolder(root=f\"{datasetPath}\\\\test\", transform=d_transform)\n",
        "testLoad = DataLoader(dataset=testSet, batch_size=batch_size, shuffle=1, num_workers=workers)"
      ]
    },
    {
      "cell_type": "markdown",
      "metadata": {
        "id": "Xt5LRQ1B8i39"
      },
      "source": [
        "## Part 4: Fine-tuning existing CNN architectures\n",
        "\n",
        "The Inception V3 and ResNet50 models you loaded above were trained on ImageNet which is not a medical dataset. In order to leverage these models for our purposes, we need to modify the architecture so that the final classification layer contains an appropriate number of classes and retune the model weights so that the models become suitable for the classification of our x-rays.\n"
      ]
    },
    {
      "cell_type": "code",
      "execution_count": 22,
      "metadata": {
        "id": "LN6ZeKE8Lp-p"
      },
      "outputs": [],
      "source": [
        "from timm import create_model\n",
        "import time\n",
        "import matplotlib.pyplot as plt\n",
        "from torch.optim import AdamW\n",
        "from torch.nn import CrossEntropyLoss\n",
        "from torch import no_grad, Tensor"
      ]
    },
    {
      "cell_type": "markdown",
      "metadata": {
        "id": "iTGT-CC5Los5"
      },
      "source": [
        "**Step 1:** Using `create_model` from the `timm` package, Load the InceptionV3 and ResNet50 models, replacing the final layer with one appropriate for our purpose (recall that we want to classify x-rays of healthy, pneumonia and SARS-CoV-3 patients). Note that the timm library can assist in replacing the final layer (see [Anthony's tutorial](https://github.com/jrgreen7/SYSC4906/blob/master/W2023/Tutorials/CIFAR100_tutorial_WIP.ipynb)). These are your modified models."
      ]
    },
    {
      "cell_type": "code",
      "execution_count": 21,
      "metadata": {
        "id": "FyUSzYSk89Hk"
      },
      "outputs": [
        {
          "name": "stdout",
          "output_type": "stream",
          "text": [
            "Done!\n"
          ]
        }
      ],
      "source": [
        "# Loads the InceptionV3 model and replaces the final classification layer with a new dense layer\n",
        "\n",
        "# YOUR CODE HERE\n",
        "med_inception = create_model(model_name='inception_v3', num_classes=3, pretrained=True)\n",
        "\n",
        "print(\"Done!\")"
      ]
    },
    {
      "cell_type": "code",
      "execution_count": 23,
      "metadata": {
        "id": "X0nCkWigU0dN"
      },
      "outputs": [
        {
          "name": "stdout",
          "output_type": "stream",
          "text": [
            "Done!\n"
          ]
        }
      ],
      "source": [
        "# Loads the ResNet50 model and replaces the final classification layer with a new dense layer\n",
        "\n",
        "# YOUR CODE HERE\n",
        "med_resnet = create_model(model_name='resnet50', pretrained=True)\n",
        "\n",
        "print(\"Done!\")"
      ]
    },
    {
      "cell_type": "markdown",
      "metadata": {
        "id": "fnPggZay-S_R"
      },
      "source": [
        "**Step 2:** In a tutorial with Anthony, you have seen that you can convert a base learning rate to an effective learning rate based on the batch size you have selected using the following heuristic:\n",
        "\n",
        "$$\\eta_{eff} = \\frac{B\\eta_{base}}{256}$$\n",
        "\n",
        "where $\\eta$ is the learning rate and $B$ is the batch size.\n",
        "\n",
        "Train the final layer modified InceptionV3 and ResNet50 models on your training set. Use the **base** learning rate $\\eta_{base}$ of 0.0005.\n",
        "\n",
        "Use the following settings:\n",
        "\n",
        "**Epochs:** 25\n",
        "\n",
        "**Optimizer:** AdamW\n",
        "\n",
        "**Loss function:** Cross-entropy (it is not required here, but note that using the weight parameter here could help deal with class imbalance)\n",
        "\n",
        "Implement the training loop yourself. Do not use a package that automates the process. Anthony has demonstrated how to do this and much can be taken from [his example](https://github.com/jrgreen7/SYSC4906/blob/master/W2023/Tutorials/CIFAR100_tutorial_WIP.ipynb).\n",
        "\n",
        "❗**Important: Make sure you are using a colab gpu and to store the mean training and validation performance/loss at each epoch as you will be plotting them in the next steps.**"
      ]
    },
    {
      "cell_type": "code",
      "execution_count": 26,
      "metadata": {
        "id": "Xpt117nYLyPe"
      },
      "outputs": [
        {
          "name": "stdout",
          "output_type": "stream",
          "text": [
            "Done!\n"
          ]
        }
      ],
      "source": [
        "# Moves the modified inceptionV3 model to GPU\n",
        "\n",
        "# YOUR CODE HERE\n",
        "med_inception.cuda()\n",
        "\n",
        "print(\"Done!\")"
      ]
    },
    {
      "cell_type": "code",
      "execution_count": 25,
      "metadata": {
        "id": "xPG5MGPIMk4x"
      },
      "outputs": [],
      "source": [
        "# Instantiates the optimizer for the modified InceptionV3 model using the specified effective learning rate\n",
        "\n",
        "# YOUR CODE HERE\n",
        "base_lr = 0.0005\n",
        "lr = (base_lr * batch_size) / 256\n",
        "opt = AdamW(params=med_inception.parameters(), lr=lr)"
      ]
    },
    {
      "cell_type": "code",
      "execution_count": 27,
      "metadata": {
        "id": "EfcMH2x-Mpjh"
      },
      "outputs": [],
      "source": [
        "# Sets up the loss function for the modified InceptionV3 model\n",
        "\n",
        "# YOUR CODE HERE\n",
        "loss_fn = CrossEntropyLoss()"
      ]
    },
    {
      "cell_type": "code",
      "execution_count": null,
      "metadata": {
        "id": "D8tIT-9M-WkC"
      },
      "outputs": [],
      "source": [
        "# Fine-tunes the weights in the final layer the modified InceptionV3 model (main learning loop)\n",
        "\n",
        "# YOUR CODE HERE\n",
        "epochs = 25\n",
        "for epoch in range(epochs):\n",
        "    trainLoss = []\n",
        "    med_inception.train()\n",
        "    start = time.time()\n",
        "    for batch in trainLoad:\n",
        "        imgs, labels = batch\n",
        "        imgs = imgs.cuda()\n",
        "        labels = labels.cuda()\n",
        "\n",
        "        logits = med_inception(imgs)\n",
        "        loss = loss_fn(logits, labels)\n",
        "        loss.backward()\n",
        "\n",
        "        opt.step()\n",
        "        opt.zero_grad()\n",
        "        trainLoss.append(loss.item())\n",
        "\n",
        "        \n",
        "    valLoss = []\n",
        "    med_inception.eval()\n",
        "    with no_grad():\n",
        "        for batch in valLoad:\n",
        "            val_img, val_label = batch\n",
        "            val_img = val_img.cuda()\n",
        "            val_label = val_label.cuda()\n",
        "\n",
        "            logits = med_inception(val_img)\n",
        "            loss = loss_fn(logits, val_label)\n",
        "            valLoss.append(loss.item())\n",
        "    \n",
        "    train_time = time.time() - start\n",
        "    i_meanEpochLoss_val = Tensor(valLoss).mean().item()\n",
        "    i_meanEpochLoss_train = Tensor(trainLoss).mean().item()\n",
        "    print(f\"Epoch: {epoch}\\tTrain Loss: {i_meanEpochLoss_train:.5f}\\tVal Loss: {i_meanEpochLoss_val:.5f}\\tTime: {train_time}\")\n",
        "    torch.save(med_resnet.state_dict(), f\"{savePath}\\\\inception\\\\\")"
      ]
    },
    {
      "cell_type": "code",
      "execution_count": null,
      "metadata": {
        "id": "O4OZyXmHxkFn"
      },
      "outputs": [],
      "source": [
        "# Moves the modified ResNet50 model to GPU\n",
        "\n",
        "# YOUR CODE HERE\n",
        "med_resnet.cuda()\n",
        "\n",
        "print(\"Done!\")"
      ]
    },
    {
      "cell_type": "code",
      "execution_count": 28,
      "metadata": {
        "id": "Fz_V6au6RbV3"
      },
      "outputs": [],
      "source": [
        "# Instantiates the optimizer for the modified ResNet50 model\n",
        "\n",
        "# YOUR CODE HERE\n",
        "base_lr = 0.0005\n",
        "lr = (base_lr * batch_size) / 256\n",
        "opt = AdamW(params=med_resnet.parameters(), lr=lr)"
      ]
    },
    {
      "cell_type": "code",
      "execution_count": 29,
      "metadata": {
        "id": "W3iE55k-RbV5"
      },
      "outputs": [],
      "source": [
        "# Sets up the loss function for the modified ResNet50 model\n",
        "\n",
        "# YOUR CODE HERE\n",
        "loss_fn = CrossEntropyLoss()"
      ]
    },
    {
      "cell_type": "code",
      "execution_count": null,
      "metadata": {
        "id": "HOecqyEUFpnH"
      },
      "outputs": [],
      "source": [
        "# Fine-tunes the weights in the final layer the modified ResNet50 model (main learning loop)\n",
        "\n",
        "# YOUR CODE HERE\n",
        "epochs = 25\n",
        "for epoch in range(epochs):\n",
        "    trainLoss = []\n",
        "    med_resnet.train()\n",
        "    start = time.time()\n",
        "    for batch in trainLoad:\n",
        "        imgs, labels = batch\n",
        "        imgs = imgs.cuda()\n",
        "        labels = labels.cuda()\n",
        "\n",
        "        logits = med_resnet(imgs)\n",
        "        loss = loss_fn(logits, labels)\n",
        "        loss.backward()\n",
        "\n",
        "        opt.step()\n",
        "        opt.zero_grad()\n",
        "        trainLoss.append(loss.item())\n",
        "\n",
        "        \n",
        "    valLoss = []\n",
        "    med_resnet.eval()\n",
        "    with no_grad():\n",
        "        for batch in valLoad:\n",
        "            val_img, val_label = batch\n",
        "            val_img = val_img.cuda()\n",
        "            val_label = val_label.cuda()\n",
        "\n",
        "            logits = med_resnet(val_img)\n",
        "            loss = loss_fn(logits, val_label)\n",
        "            valLoss.append(loss.item())\n",
        "    \n",
        "    train_time = time.time() - start\n",
        "    r_meanEpochLoss_val = Tensor(valLoss).mean().item()\n",
        "    r_meanEpochLoss_train = Tensor(trainLoss).mean().item()\n",
        "    print(f\"Epoch: {epoch}\\tTrain Loss: {r_meanEpochLoss_train:.5f}\\tVal Loss: {r_meanEpochLoss_val:.5f}\\tTime: {train_time}\")\n",
        "    torch.save(med_resnet.state_dict(), f\"{savePath}\\\\resnet\\\\\")"
      ]
    },
    {
      "cell_type": "markdown",
      "metadata": {
        "id": "hWdTW9APDrpS"
      },
      "source": [
        "**Step 3:** In different labeled subplots, display the learning curves for each model. Each subplot should display loss on the training set and the validation set (*i.e.* 2 curves per subplot). Use matplotlib."
      ]
    },
    {
      "cell_type": "code",
      "execution_count": null,
      "metadata": {
        "id": "l-uQC4sIX6-b"
      },
      "outputs": [],
      "source": [
        "# Displays the learning curves (loss) for both models in two separate subplots\n",
        "\n",
        "# YOUR CODE HERE\n",
        "x = range(25)\n",
        "y_resnet_t = r_meanEpochLoss_train\n",
        "y_resnet_v = r_meanEpochLoss_val\n",
        "y_inception_t = i_meanEpochLoss_train\n",
        "y_inception_v = i_meanEpochLoss_val\n",
        "\n",
        "plt.subplot(1, 2, 1)\n",
        "plt.plot(x, [y_inception_t, y_inception_v])\n",
        "plt.subplot(1,2,2)\n",
        "plt.plot(x, [y_resnet_t, y_resnet_v])"
      ]
    },
    {
      "cell_type": "markdown",
      "metadata": {
        "id": "EvoZe_IGQJ__"
      },
      "source": [
        "❓ ***Question: Comment on your learning curves. What do they tell you?***"
      ]
    },
    {
      "cell_type": "markdown",
      "metadata": {
        "id": "UTgGmtFzQVu_"
      },
      "source": [
        "📝 YOUR ANSWER GOES HERE"
      ]
    },
    {
      "cell_type": "markdown",
      "metadata": {
        "id": "GBAcg-ezIKZG"
      },
      "source": [
        "## Part 5: Performance evaluation on a test set\n",
        "\n",
        "Of course, estimating the performance of your model on unseen data is a key step in machine learning methodology. Here, you will summarize model performance for your InceptionV3 model and ResNet50 model on the test set."
      ]
    },
    {
      "cell_type": "code",
      "execution_count": null,
      "metadata": {
        "id": "qfL6yr-E32SY"
      },
      "outputs": [],
      "source": [
        "from sklearn.metrics import confusion_matrix\n",
        "from sklearn.metrics import PrecisionRecallDisplay\n",
        "from torch import no_grad"
      ]
    },
    {
      "cell_type": "markdown",
      "metadata": {
        "id": "yfskXdis0a8t"
      },
      "source": [
        "**Step 1:** Iterate through the images in the test set using the test dataloader to make predictions for the test set images and retrieve their actual label (its index). Note that this is done in a way similar to the validation step in the training loop.\n",
        "\n",
        "Append the predicted class index to a list, the actual labels to another and the probability of the SARS-CoV-3 class to another list.\n",
        "\n",
        "Do this for both fine-tuned models.\n",
        "\n",
        "Note that the indices map to the classes as follows:\n",
        "\n",
        "0: normal\n",
        "\n",
        "1: pneumonia\n",
        "\n",
        "2: sarscov3"
      ]
    },
    {
      "cell_type": "code",
      "execution_count": null,
      "metadata": {
        "id": "euMGErLf0i_1"
      },
      "outputs": [],
      "source": [
        "# Creates a list of predictions, a list of actual labels and a list of probabilities of the SARS-CoV-3 class for the fine-tuned InceptionV3 model applied to the test set\n",
        "\n",
        "# YOUR CODE HERE"
      ]
    },
    {
      "cell_type": "code",
      "execution_count": null,
      "metadata": {
        "id": "e6UMYl4W3FhK"
      },
      "outputs": [],
      "source": [
        "# Creates a list of predictions, a list of actual labels and a list of probabilities of the SARS-CoV-3 class for the fine-tuned ResNet50 model applied to the test set\n",
        "\n",
        "# YOUR CODE HERE"
      ]
    },
    {
      "cell_type": "markdown",
      "metadata": {
        "id": "xl53hgxEE6PH"
      },
      "source": [
        "**Step 2:** Show the confusion matrices for both models. The `confusion_matrix` function from scikit-learn I imported for you is useful for this."
      ]
    },
    {
      "cell_type": "code",
      "execution_count": null,
      "metadata": {
        "id": "Ya11twapResF"
      },
      "outputs": [],
      "source": [
        "# Creates the confusion matrix for the modified InceptionV3 model\n",
        "\n",
        "# YOUR CODE HERE"
      ]
    },
    {
      "cell_type": "code",
      "execution_count": null,
      "metadata": {
        "id": "ns6s6QGz4YIe"
      },
      "outputs": [],
      "source": [
        "# Creates the confusion matrix for the modified ResNet50 model\n",
        "\n",
        "# YOUR CODE HERE"
      ]
    },
    {
      "cell_type": "markdown",
      "metadata": {
        "id": "5g_NVIx5RpOm"
      },
      "source": [
        "❓ ***Question: Based off these matrices, report the accuracy of the models.***"
      ]
    },
    {
      "cell_type": "markdown",
      "metadata": {
        "id": "trfucb7V53fR"
      },
      "source": [
        "📝 YOUR ANSWER GOES HERE"
      ]
    },
    {
      "cell_type": "markdown",
      "metadata": {
        "id": "7umfab-rFaOC"
      },
      "source": [
        "**Step 3:** Use the `PrecisionRecallDisplay.from_predictions` methods documented [here](https://scikit-learn.org/stable/auto_examples/model_selection/plot_precision_recall.html#:~:text=The%20precision%2Drecall%20curve%20shows,a%20low%20false%20negative%20rate.) to plot the precision recall curves for your models. There are three classes, so convert your labels so that it becomes a binary classification scenario, ie. SARS-CoV-3 vs. not-SARS-CoV-3."
      ]
    },
    {
      "cell_type": "code",
      "execution_count": null,
      "metadata": {
        "id": "xKoSmJAJRe6W"
      },
      "outputs": [],
      "source": [
        "# Plots the PR curves of your fine-tuned InceptionV3 and ResNet50 models \n",
        "\n",
        "# YOUR CODE HERE"
      ]
    },
    {
      "cell_type": "markdown",
      "metadata": {
        "id": "CUHNYRuIylfQ"
      },
      "source": [
        "❓ ***Question: Based off the results you obtained in this section, which model performs best? Why do you think (in 5 sentences or less)?***"
      ]
    },
    {
      "cell_type": "markdown",
      "metadata": {
        "id": "s8m6O95LylqS"
      },
      "source": [
        "📝 YOUR ANSWER GOES HERE"
      ]
    },
    {
      "cell_type": "markdown",
      "metadata": {
        "id": "1dfWbPP0HpnR"
      },
      "source": [
        "## Part 6: Answering questions from investors ❓\n",
        "\n",
        "Bfizer has heard about your model and are interested in investing in your technology. However, before they engage in further discussions, they want you to answer the following questions:\n",
        "\n",
        "1. Briefly provide techniques that you would explore next to further improve the performance of your model?\n",
        "\n",
        "2. A competitor has trained an SVM on the same dataset but performs worse than your model. Why do CNNs perform better than SVM for image classification? Discuss two aspects: differences in features and differences in training data.\n",
        "\n",
        "3. The investors consider investing in a very small device that can run your model. Would your best model fit on this small cost-effective device with 32 MB of storage, assuming that all parameters in the model are 16 bit floats (you can ignore everything in the model but the trainable parameters)? You can use the `torchstat` library ([link](https://github.com/Swall0w/torchstat)) to get the number of parameters. Note that the relevant function from this library was already imported for you (below).\n",
        "\n",
        "4. If your best model predict a positive SARS-CoV-3 case, how likely is it that you are correct? How likely is it that you are wrong?\n",
        "\n",
        "5. Assuming that the test data is representative of the disease status among the general population of Canada (it is not, why? hint: think of bias.), how many Canadians (Canada pop: 38M) currently have SARS-CoV-4? How much will it cost Canadians to inject all infected people if one dose of Greenraza™️ can be purchased for 13 CAD (Canadian Dollars)? How many people have pneumonia and need to be isolated? (Show your calculations.)\n",
        "\n",
        "**Note: Your confusion matrices might be useful for the last 2 questions. 😉**"
      ]
    },
    {
      "cell_type": "markdown",
      "metadata": {
        "id": "mcIuatctITLy"
      },
      "source": [
        "📝 YOUR SHORT ANSWERS GO HERE (add code cells below as needed for calculations, eg. for running the `stat` function from the `torchstat` package)"
      ]
    },
    {
      "cell_type": "code",
      "execution_count": null,
      "metadata": {
        "id": "CozarykaTi5U"
      },
      "outputs": [],
      "source": [
        "# Determines the number of trainable parameters in your best model\n",
        "from torchstat import stat\n",
        "\n",
        "# YOUR CODE HERE"
      ]
    },
    {
      "cell_type": "markdown",
      "metadata": {
        "id": "2cN1EF53Xj9Q"
      },
      "source": [
        "See? It wasn't that hard, was it?! 😉"
      ]
    }
  ],
  "metadata": {
    "accelerator": "GPU",
    "colab": {
      "provenance": []
    },
    "gpuClass": "standard",
    "kernelspec": {
      "display_name": "Python 3",
      "name": "python3"
    },
    "language_info": {
      "codemirror_mode": {
        "name": "ipython",
        "version": 3
      },
      "file_extension": ".py",
      "mimetype": "text/x-python",
      "name": "python",
      "nbconvert_exporter": "python",
      "pygments_lexer": "ipython3",
      "version": "3.9.13"
    }
  },
  "nbformat": 4,
  "nbformat_minor": 0
}
